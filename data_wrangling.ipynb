{
 "cells": [
  {
   "cell_type": "markdown",
   "metadata": {},
   "source": [
    "# Exercise"
   ]
  },
  {
   "cell_type": "code",
   "execution_count": 1,
   "metadata": {},
   "outputs": [],
   "source": [
    "# ignore warnings\n",
    "import warnings\n",
    "warnings.filterwarnings(\"ignore\")\n",
    "\n",
    "# Wrangling\n",
    "import pandas as pd\n",
    "import numpy as np\n",
    "\n",
    "# Exploring\n",
    "import scipy.stats as stats\n",
    "\n",
    "# Visualizing\n",
    "%matplotlib inline\n",
    "import matplotlib.pyplot as plt\n",
    "import seaborn as sns\n",
    "\n",
    "# Acquire and Prepare files\n",
    "import acquire\n",
    "import prepare\n",
    "\n",
    "# Prep\n",
    "from sklearn.model_selection import train_test_split"
   ]
  },
  {
   "cell_type": "markdown",
   "metadata": {},
   "source": [
    "## Acquire (acquire.py)"
   ]
  },
  {
   "cell_type": "markdown",
   "metadata": {},
   "source": [
    "### Zillow"
   ]
  },
  {
   "cell_type": "markdown",
   "metadata": {},
   "source": [
    "#### 1. Acquire data from mySQL using the python module to connect and query. You will want to end with a single dataframe. Make sure to include: the logerror, all fields related to the properties that are available. You will end up using all the tables in the database.\n",
    "- Be sure to do the correct join (inner, outer, etc.). We do not want to eliminate properties purely because they may have a null value for airconditioningtypeid.\n",
    "- Only include properties with a transaction in 2017, and include only the last transaction for each properity (so no duplicate property ID's), along with zestimate error and date of transaction.\n",
    "- Only include properties that include a latitude and longitude value."
   ]
  },
  {
   "cell_type": "code",
   "execution_count": 2,
   "metadata": {},
   "outputs": [],
   "source": [
    "df = acquire.zillow_data_query()"
   ]
  },
  {
   "cell_type": "markdown",
   "metadata": {},
   "source": [
    "#### 2. Summarize your data (summary stats, info, dtypes, shape, distributions, value_counts, etc.)"
   ]
  },
  {
   "cell_type": "code",
   "execution_count": 3,
   "metadata": {},
   "outputs": [
    {
     "data": {
      "text/html": [
       "<div>\n",
       "<style scoped>\n",
       "    .dataframe tbody tr th:only-of-type {\n",
       "        vertical-align: middle;\n",
       "    }\n",
       "\n",
       "    .dataframe tbody tr th {\n",
       "        vertical-align: top;\n",
       "    }\n",
       "\n",
       "    .dataframe thead th {\n",
       "        text-align: right;\n",
       "    }\n",
       "</style>\n",
       "<table border=\"1\" class=\"dataframe\">\n",
       "  <thead>\n",
       "    <tr style=\"text-align: right;\">\n",
       "      <th></th>\n",
       "      <th>typeconstructiontypeid</th>\n",
       "      <th>storytypeid</th>\n",
       "      <th>propertylandusetypeid</th>\n",
       "      <th>heatingorsystemtypeid</th>\n",
       "      <th>buildingclasstypeid</th>\n",
       "      <th>architecturalstyletypeid</th>\n",
       "      <th>airconditioningtypeid</th>\n",
       "      <th>parcelid</th>\n",
       "      <th>id</th>\n",
       "      <th>basementsqft</th>\n",
       "      <th>...</th>\n",
       "      <th>id</th>\n",
       "      <th>logerror</th>\n",
       "      <th>transactiondate</th>\n",
       "      <th>airconditioningdesc</th>\n",
       "      <th>architecturalstyledesc</th>\n",
       "      <th>buildingclassdesc</th>\n",
       "      <th>heatingorsystemdesc</th>\n",
       "      <th>propertylandusedesc</th>\n",
       "      <th>storydesc</th>\n",
       "      <th>typeconstructiondesc</th>\n",
       "    </tr>\n",
       "  </thead>\n",
       "  <tbody>\n",
       "    <tr>\n",
       "      <th>0</th>\n",
       "      <td>NaN</td>\n",
       "      <td>NaN</td>\n",
       "      <td>261.0</td>\n",
       "      <td>NaN</td>\n",
       "      <td>NaN</td>\n",
       "      <td>NaN</td>\n",
       "      <td>NaN</td>\n",
       "      <td>14297519</td>\n",
       "      <td>1727539</td>\n",
       "      <td>NaN</td>\n",
       "      <td>...</td>\n",
       "      <td>0</td>\n",
       "      <td>0.025595</td>\n",
       "      <td>2017-01-01</td>\n",
       "      <td>None</td>\n",
       "      <td>None</td>\n",
       "      <td>None</td>\n",
       "      <td>None</td>\n",
       "      <td>Single Family Residential</td>\n",
       "      <td>None</td>\n",
       "      <td>None</td>\n",
       "    </tr>\n",
       "    <tr>\n",
       "      <th>1</th>\n",
       "      <td>NaN</td>\n",
       "      <td>NaN</td>\n",
       "      <td>261.0</td>\n",
       "      <td>NaN</td>\n",
       "      <td>NaN</td>\n",
       "      <td>NaN</td>\n",
       "      <td>NaN</td>\n",
       "      <td>17052889</td>\n",
       "      <td>1387261</td>\n",
       "      <td>NaN</td>\n",
       "      <td>...</td>\n",
       "      <td>1</td>\n",
       "      <td>0.055619</td>\n",
       "      <td>2017-01-01</td>\n",
       "      <td>None</td>\n",
       "      <td>None</td>\n",
       "      <td>None</td>\n",
       "      <td>None</td>\n",
       "      <td>Single Family Residential</td>\n",
       "      <td>None</td>\n",
       "      <td>None</td>\n",
       "    </tr>\n",
       "    <tr>\n",
       "      <th>2</th>\n",
       "      <td>NaN</td>\n",
       "      <td>NaN</td>\n",
       "      <td>261.0</td>\n",
       "      <td>NaN</td>\n",
       "      <td>NaN</td>\n",
       "      <td>NaN</td>\n",
       "      <td>NaN</td>\n",
       "      <td>14186244</td>\n",
       "      <td>11677</td>\n",
       "      <td>NaN</td>\n",
       "      <td>...</td>\n",
       "      <td>2</td>\n",
       "      <td>0.005383</td>\n",
       "      <td>2017-01-01</td>\n",
       "      <td>None</td>\n",
       "      <td>None</td>\n",
       "      <td>None</td>\n",
       "      <td>None</td>\n",
       "      <td>Single Family Residential</td>\n",
       "      <td>None</td>\n",
       "      <td>None</td>\n",
       "    </tr>\n",
       "    <tr>\n",
       "      <th>3</th>\n",
       "      <td>NaN</td>\n",
       "      <td>NaN</td>\n",
       "      <td>261.0</td>\n",
       "      <td>2.0</td>\n",
       "      <td>NaN</td>\n",
       "      <td>NaN</td>\n",
       "      <td>NaN</td>\n",
       "      <td>12177905</td>\n",
       "      <td>2288172</td>\n",
       "      <td>NaN</td>\n",
       "      <td>...</td>\n",
       "      <td>3</td>\n",
       "      <td>-0.103410</td>\n",
       "      <td>2017-01-01</td>\n",
       "      <td>None</td>\n",
       "      <td>None</td>\n",
       "      <td>None</td>\n",
       "      <td>Central</td>\n",
       "      <td>Single Family Residential</td>\n",
       "      <td>None</td>\n",
       "      <td>None</td>\n",
       "    </tr>\n",
       "    <tr>\n",
       "      <th>4</th>\n",
       "      <td>NaN</td>\n",
       "      <td>NaN</td>\n",
       "      <td>266.0</td>\n",
       "      <td>2.0</td>\n",
       "      <td>NaN</td>\n",
       "      <td>NaN</td>\n",
       "      <td>1.0</td>\n",
       "      <td>10887214</td>\n",
       "      <td>1970746</td>\n",
       "      <td>NaN</td>\n",
       "      <td>...</td>\n",
       "      <td>4</td>\n",
       "      <td>0.006940</td>\n",
       "      <td>2017-01-01</td>\n",
       "      <td>Central</td>\n",
       "      <td>None</td>\n",
       "      <td>None</td>\n",
       "      <td>Central</td>\n",
       "      <td>Condominium</td>\n",
       "      <td>None</td>\n",
       "      <td>None</td>\n",
       "    </tr>\n",
       "  </tbody>\n",
       "</table>\n",
       "<p>5 rows × 69 columns</p>\n",
       "</div>"
      ],
      "text/plain": [
       "   typeconstructiontypeid  storytypeid  propertylandusetypeid  \\\n",
       "0                     NaN          NaN                  261.0   \n",
       "1                     NaN          NaN                  261.0   \n",
       "2                     NaN          NaN                  261.0   \n",
       "3                     NaN          NaN                  261.0   \n",
       "4                     NaN          NaN                  266.0   \n",
       "\n",
       "   heatingorsystemtypeid  buildingclasstypeid  architecturalstyletypeid  \\\n",
       "0                    NaN                  NaN                       NaN   \n",
       "1                    NaN                  NaN                       NaN   \n",
       "2                    NaN                  NaN                       NaN   \n",
       "3                    2.0                  NaN                       NaN   \n",
       "4                    2.0                  NaN                       NaN   \n",
       "\n",
       "   airconditioningtypeid  parcelid       id  basementsqft  ...  id  logerror  \\\n",
       "0                    NaN  14297519  1727539           NaN  ...   0  0.025595   \n",
       "1                    NaN  17052889  1387261           NaN  ...   1  0.055619   \n",
       "2                    NaN  14186244    11677           NaN  ...   2  0.005383   \n",
       "3                    NaN  12177905  2288172           NaN  ...   3 -0.103410   \n",
       "4                    1.0  10887214  1970746           NaN  ...   4  0.006940   \n",
       "\n",
       "   transactiondate  airconditioningdesc  architecturalstyledesc  \\\n",
       "0       2017-01-01                 None                    None   \n",
       "1       2017-01-01                 None                    None   \n",
       "2       2017-01-01                 None                    None   \n",
       "3       2017-01-01                 None                    None   \n",
       "4       2017-01-01              Central                    None   \n",
       "\n",
       "   buildingclassdesc  heatingorsystemdesc        propertylandusedesc  \\\n",
       "0               None                 None  Single Family Residential   \n",
       "1               None                 None  Single Family Residential   \n",
       "2               None                 None  Single Family Residential   \n",
       "3               None              Central  Single Family Residential   \n",
       "4               None              Central                Condominium   \n",
       "\n",
       "   storydesc  typeconstructiondesc  \n",
       "0       None                  None  \n",
       "1       None                  None  \n",
       "2       None                  None  \n",
       "3       None                  None  \n",
       "4       None                  None  \n",
       "\n",
       "[5 rows x 69 columns]"
      ]
     },
     "execution_count": 3,
     "metadata": {},
     "output_type": "execute_result"
    }
   ],
   "source": [
    "df.head()"
   ]
  },
  {
   "cell_type": "markdown",
   "metadata": {},
   "source": [
    "#### Info"
   ]
  },
  {
   "cell_type": "code",
   "execution_count": 4,
   "metadata": {},
   "outputs": [
    {
     "name": "stdout",
     "output_type": "stream",
     "text": [
      "<class 'pandas.core.frame.DataFrame'>\n",
      "RangeIndex: 77580 entries, 0 to 77579\n",
      "Data columns (total 69 columns):\n",
      " #   Column                        Non-Null Count  Dtype  \n",
      "---  ------                        --------------  -----  \n",
      " 0   typeconstructiontypeid        223 non-null    float64\n",
      " 1   storytypeid                   50 non-null     float64\n",
      " 2   propertylandusetypeid         77580 non-null  float64\n",
      " 3   heatingorsystemtypeid         49572 non-null  float64\n",
      " 4   buildingclasstypeid           15 non-null     float64\n",
      " 5   architecturalstyletypeid      207 non-null    float64\n",
      " 6   airconditioningtypeid         25007 non-null  float64\n",
      " 7   parcelid                      77580 non-null  int64  \n",
      " 8   id                            77580 non-null  int64  \n",
      " 9   basementsqft                  50 non-null     float64\n",
      " 10  bathroomcnt                   77580 non-null  float64\n",
      " 11  bedroomcnt                    77580 non-null  float64\n",
      " 12  buildingqualitytypeid         49810 non-null  float64\n",
      " 13  calculatedbathnbr             76964 non-null  float64\n",
      " 14  decktypeid                    614 non-null    float64\n",
      " 15  finishedfloor1squarefeet      6037 non-null   float64\n",
      " 16  calculatedfinishedsquarefeet  77379 non-null  float64\n",
      " 17  finishedsquarefeet12          73924 non-null  float64\n",
      " 18  finishedsquarefeet13          42 non-null     float64\n",
      " 19  finishedsquarefeet15          3027 non-null   float64\n",
      " 20  finishedsquarefeet50          6037 non-null   float64\n",
      " 21  finishedsquarefeet6           386 non-null    float64\n",
      " 22  fips                          77580 non-null  float64\n",
      " 23  fireplacecnt                  8289 non-null   float64\n",
      " 24  fullbathcnt                   76964 non-null  float64\n",
      " 25  garagecarcnt                  25520 non-null  float64\n",
      " 26  garagetotalsqft               25520 non-null  float64\n",
      " 27  hashottuborspa                1539 non-null   float64\n",
      " 28  latitude                      77580 non-null  float64\n",
      " 29  longitude                     77580 non-null  float64\n",
      " 30  lotsizesquarefeet             69322 non-null  float64\n",
      " 31  poolcnt                       16174 non-null  float64\n",
      " 32  poolsizesum                   869 non-null    float64\n",
      " 33  pooltypeid10                  465 non-null    float64\n",
      " 34  pooltypeid2                   1074 non-null   float64\n",
      " 35  pooltypeid7                   15079 non-null  float64\n",
      " 36  propertycountylandusecode     77580 non-null  object \n",
      " 37  propertyzoningdesc            50477 non-null  object \n",
      " 38  rawcensustractandblock        77580 non-null  float64\n",
      " 39  regionidcity                  76108 non-null  float64\n",
      " 40  regionidcounty                77580 non-null  float64\n",
      " 41  regionidneighborhood          30974 non-null  float64\n",
      " 42  regionidzip                   77530 non-null  float64\n",
      " 43  roomcnt                       77580 non-null  float64\n",
      " 44  threequarterbathnbr           10106 non-null  float64\n",
      " 45  unitcnt                       50704 non-null  float64\n",
      " 46  yardbuildingsqft17            2393 non-null   float64\n",
      " 47  yardbuildingsqft26            70 non-null     float64\n",
      " 48  yearbuilt                     77310 non-null  float64\n",
      " 49  numberofstories               17599 non-null  float64\n",
      " 50  fireplaceflag                 172 non-null    float64\n",
      " 51  structuretaxvaluedollarcnt    77465 non-null  float64\n",
      " 52  taxvaluedollarcnt             77579 non-null  float64\n",
      " 53  assessmentyear                77580 non-null  float64\n",
      " 54  landtaxvaluedollarcnt         77578 non-null  float64\n",
      " 55  taxamount                     77575 non-null  float64\n",
      " 56  taxdelinquencyflag            2900 non-null   object \n",
      " 57  taxdelinquencyyear            2900 non-null   float64\n",
      " 58  censustractandblock           77333 non-null  float64\n",
      " 59  id                            77580 non-null  int64  \n",
      " 60  logerror                      77580 non-null  float64\n",
      " 61  transactiondate               77580 non-null  object \n",
      " 62  airconditioningdesc           25007 non-null  object \n",
      " 63  architecturalstyledesc        207 non-null    object \n",
      " 64  buildingclassdesc             15 non-null     object \n",
      " 65  heatingorsystemdesc           49572 non-null  object \n",
      " 66  propertylandusedesc           77580 non-null  object \n",
      " 67  storydesc                     50 non-null     object \n",
      " 68  typeconstructiondesc          223 non-null    object \n",
      "dtypes: float64(55), int64(3), object(11)\n",
      "memory usage: 40.8+ MB\n"
     ]
    }
   ],
   "source": [
    "df.info()"
   ]
  },
  {
   "cell_type": "markdown",
   "metadata": {},
   "source": [
    "#### Dtypes"
   ]
  },
  {
   "cell_type": "code",
   "execution_count": 5,
   "metadata": {},
   "outputs": [
    {
     "data": {
      "text/plain": [
       "typeconstructiontypeid    float64\n",
       "storytypeid               float64\n",
       "propertylandusetypeid     float64\n",
       "heatingorsystemtypeid     float64\n",
       "buildingclasstypeid       float64\n",
       "                           ...   \n",
       "buildingclassdesc          object\n",
       "heatingorsystemdesc        object\n",
       "propertylandusedesc        object\n",
       "storydesc                  object\n",
       "typeconstructiondesc       object\n",
       "Length: 69, dtype: object"
      ]
     },
     "execution_count": 5,
     "metadata": {},
     "output_type": "execute_result"
    }
   ],
   "source": [
    "df.dtypes"
   ]
  },
  {
   "cell_type": "markdown",
   "metadata": {},
   "source": [
    "#### Shape"
   ]
  },
  {
   "cell_type": "code",
   "execution_count": 6,
   "metadata": {},
   "outputs": [
    {
     "data": {
      "text/plain": [
       "(77580, 69)"
      ]
     },
     "execution_count": 6,
     "metadata": {},
     "output_type": "execute_result"
    }
   ],
   "source": [
    "df.shape"
   ]
  },
  {
   "cell_type": "markdown",
   "metadata": {},
   "source": [
    "#### Distributions"
   ]
  },
  {
   "cell_type": "code",
   "execution_count": 7,
   "metadata": {},
   "outputs": [
    {
     "data": {
      "text/html": [
       "<div>\n",
       "<style scoped>\n",
       "    .dataframe tbody tr th:only-of-type {\n",
       "        vertical-align: middle;\n",
       "    }\n",
       "\n",
       "    .dataframe tbody tr th {\n",
       "        vertical-align: top;\n",
       "    }\n",
       "\n",
       "    .dataframe thead th {\n",
       "        text-align: right;\n",
       "    }\n",
       "</style>\n",
       "<table border=\"1\" class=\"dataframe\">\n",
       "  <thead>\n",
       "    <tr style=\"text-align: right;\">\n",
       "      <th></th>\n",
       "      <th>typeconstructiontypeid</th>\n",
       "      <th>storytypeid</th>\n",
       "      <th>propertylandusetypeid</th>\n",
       "      <th>heatingorsystemtypeid</th>\n",
       "      <th>buildingclasstypeid</th>\n",
       "      <th>architecturalstyletypeid</th>\n",
       "      <th>airconditioningtypeid</th>\n",
       "      <th>parcelid</th>\n",
       "      <th>id</th>\n",
       "      <th>basementsqft</th>\n",
       "      <th>...</th>\n",
       "      <th>fireplaceflag</th>\n",
       "      <th>structuretaxvaluedollarcnt</th>\n",
       "      <th>taxvaluedollarcnt</th>\n",
       "      <th>assessmentyear</th>\n",
       "      <th>landtaxvaluedollarcnt</th>\n",
       "      <th>taxamount</th>\n",
       "      <th>taxdelinquencyyear</th>\n",
       "      <th>censustractandblock</th>\n",
       "      <th>id</th>\n",
       "      <th>logerror</th>\n",
       "    </tr>\n",
       "  </thead>\n",
       "  <tbody>\n",
       "    <tr>\n",
       "      <th>count</th>\n",
       "      <td>223.000000</td>\n",
       "      <td>50.0</td>\n",
       "      <td>77580.000000</td>\n",
       "      <td>49572.000000</td>\n",
       "      <td>15.000000</td>\n",
       "      <td>207.000000</td>\n",
       "      <td>25007.000000</td>\n",
       "      <td>7.758000e+04</td>\n",
       "      <td>7.758000e+04</td>\n",
       "      <td>50.000000</td>\n",
       "      <td>...</td>\n",
       "      <td>172.0</td>\n",
       "      <td>7.746500e+04</td>\n",
       "      <td>7.757900e+04</td>\n",
       "      <td>77580.0</td>\n",
       "      <td>7.757800e+04</td>\n",
       "      <td>77575.000000</td>\n",
       "      <td>2900.000000</td>\n",
       "      <td>7.733300e+04</td>\n",
       "      <td>77580.000000</td>\n",
       "      <td>77580.000000</td>\n",
       "    </tr>\n",
       "    <tr>\n",
       "      <th>mean</th>\n",
       "      <td>6.040359</td>\n",
       "      <td>7.0</td>\n",
       "      <td>261.824465</td>\n",
       "      <td>3.921811</td>\n",
       "      <td>3.933333</td>\n",
       "      <td>7.386473</td>\n",
       "      <td>1.812013</td>\n",
       "      <td>1.300828e+07</td>\n",
       "      <td>1.495404e+06</td>\n",
       "      <td>679.720000</td>\n",
       "      <td>...</td>\n",
       "      <td>1.0</td>\n",
       "      <td>1.892796e+05</td>\n",
       "      <td>4.901476e+05</td>\n",
       "      <td>2016.0</td>\n",
       "      <td>3.011500e+05</td>\n",
       "      <td>5995.927626</td>\n",
       "      <td>14.088276</td>\n",
       "      <td>6.049667e+13</td>\n",
       "      <td>38806.723795</td>\n",
       "      <td>0.016800</td>\n",
       "    </tr>\n",
       "    <tr>\n",
       "      <th>std</th>\n",
       "      <td>0.556035</td>\n",
       "      <td>0.0</td>\n",
       "      <td>5.141564</td>\n",
       "      <td>3.594770</td>\n",
       "      <td>0.258199</td>\n",
       "      <td>2.728030</td>\n",
       "      <td>2.965768</td>\n",
       "      <td>3.519376e+06</td>\n",
       "      <td>8.609700e+05</td>\n",
       "      <td>689.703546</td>\n",
       "      <td>...</td>\n",
       "      <td>0.0</td>\n",
       "      <td>2.304095e+05</td>\n",
       "      <td>6.537942e+05</td>\n",
       "      <td>0.0</td>\n",
       "      <td>4.927219e+05</td>\n",
       "      <td>7628.816490</td>\n",
       "      <td>2.181281</td>\n",
       "      <td>1.533329e+12</td>\n",
       "      <td>22403.756329</td>\n",
       "      <td>0.170739</td>\n",
       "    </tr>\n",
       "    <tr>\n",
       "      <th>min</th>\n",
       "      <td>4.000000</td>\n",
       "      <td>7.0</td>\n",
       "      <td>31.000000</td>\n",
       "      <td>1.000000</td>\n",
       "      <td>3.000000</td>\n",
       "      <td>2.000000</td>\n",
       "      <td>1.000000</td>\n",
       "      <td>1.071186e+07</td>\n",
       "      <td>3.490000e+02</td>\n",
       "      <td>38.000000</td>\n",
       "      <td>...</td>\n",
       "      <td>1.0</td>\n",
       "      <td>4.400000e+01</td>\n",
       "      <td>1.000000e+03</td>\n",
       "      <td>2016.0</td>\n",
       "      <td>1.610000e+02</td>\n",
       "      <td>19.920000</td>\n",
       "      <td>3.000000</td>\n",
       "      <td>6.037101e+13</td>\n",
       "      <td>0.000000</td>\n",
       "      <td>-4.655420</td>\n",
       "    </tr>\n",
       "    <tr>\n",
       "      <th>25%</th>\n",
       "      <td>6.000000</td>\n",
       "      <td>7.0</td>\n",
       "      <td>261.000000</td>\n",
       "      <td>2.000000</td>\n",
       "      <td>4.000000</td>\n",
       "      <td>7.000000</td>\n",
       "      <td>1.000000</td>\n",
       "      <td>1.153820e+07</td>\n",
       "      <td>7.521430e+05</td>\n",
       "      <td>273.000000</td>\n",
       "      <td>...</td>\n",
       "      <td>1.0</td>\n",
       "      <td>8.417100e+04</td>\n",
       "      <td>2.068990e+05</td>\n",
       "      <td>2016.0</td>\n",
       "      <td>8.529325e+04</td>\n",
       "      <td>2712.650000</td>\n",
       "      <td>14.000000</td>\n",
       "      <td>6.037311e+13</td>\n",
       "      <td>19404.750000</td>\n",
       "      <td>-0.024310</td>\n",
       "    </tr>\n",
       "    <tr>\n",
       "      <th>50%</th>\n",
       "      <td>6.000000</td>\n",
       "      <td>7.0</td>\n",
       "      <td>261.000000</td>\n",
       "      <td>2.000000</td>\n",
       "      <td>4.000000</td>\n",
       "      <td>7.000000</td>\n",
       "      <td>1.000000</td>\n",
       "      <td>1.253056e+07</td>\n",
       "      <td>1.498256e+06</td>\n",
       "      <td>515.000000</td>\n",
       "      <td>...</td>\n",
       "      <td>1.0</td>\n",
       "      <td>1.364020e+05</td>\n",
       "      <td>3.588780e+05</td>\n",
       "      <td>2016.0</td>\n",
       "      <td>2.031810e+05</td>\n",
       "      <td>4448.230000</td>\n",
       "      <td>15.000000</td>\n",
       "      <td>6.037603e+13</td>\n",
       "      <td>38804.500000</td>\n",
       "      <td>0.006675</td>\n",
       "    </tr>\n",
       "    <tr>\n",
       "      <th>75%</th>\n",
       "      <td>6.000000</td>\n",
       "      <td>7.0</td>\n",
       "      <td>266.000000</td>\n",
       "      <td>7.000000</td>\n",
       "      <td>4.000000</td>\n",
       "      <td>7.000000</td>\n",
       "      <td>1.000000</td>\n",
       "      <td>1.421135e+07</td>\n",
       "      <td>2.240950e+06</td>\n",
       "      <td>796.500000</td>\n",
       "      <td>...</td>\n",
       "      <td>1.0</td>\n",
       "      <td>2.187340e+05</td>\n",
       "      <td>5.690000e+05</td>\n",
       "      <td>2016.0</td>\n",
       "      <td>3.667398e+05</td>\n",
       "      <td>6926.885000</td>\n",
       "      <td>15.000000</td>\n",
       "      <td>6.059042e+13</td>\n",
       "      <td>58208.250000</td>\n",
       "      <td>0.039291</td>\n",
       "    </tr>\n",
       "    <tr>\n",
       "      <th>max</th>\n",
       "      <td>13.000000</td>\n",
       "      <td>7.0</td>\n",
       "      <td>275.000000</td>\n",
       "      <td>24.000000</td>\n",
       "      <td>4.000000</td>\n",
       "      <td>21.000000</td>\n",
       "      <td>13.000000</td>\n",
       "      <td>1.676893e+08</td>\n",
       "      <td>2.982274e+06</td>\n",
       "      <td>3560.000000</td>\n",
       "      <td>...</td>\n",
       "      <td>1.0</td>\n",
       "      <td>1.142179e+07</td>\n",
       "      <td>4.906124e+07</td>\n",
       "      <td>2016.0</td>\n",
       "      <td>4.895220e+07</td>\n",
       "      <td>586639.300000</td>\n",
       "      <td>99.000000</td>\n",
       "      <td>4.830301e+14</td>\n",
       "      <td>77613.000000</td>\n",
       "      <td>5.262999</td>\n",
       "    </tr>\n",
       "  </tbody>\n",
       "</table>\n",
       "<p>8 rows × 58 columns</p>\n",
       "</div>"
      ],
      "text/plain": [
       "       typeconstructiontypeid  storytypeid  propertylandusetypeid  \\\n",
       "count              223.000000         50.0           77580.000000   \n",
       "mean                 6.040359          7.0             261.824465   \n",
       "std                  0.556035          0.0               5.141564   \n",
       "min                  4.000000          7.0              31.000000   \n",
       "25%                  6.000000          7.0             261.000000   \n",
       "50%                  6.000000          7.0             261.000000   \n",
       "75%                  6.000000          7.0             266.000000   \n",
       "max                 13.000000          7.0             275.000000   \n",
       "\n",
       "       heatingorsystemtypeid  buildingclasstypeid  architecturalstyletypeid  \\\n",
       "count           49572.000000            15.000000                207.000000   \n",
       "mean                3.921811             3.933333                  7.386473   \n",
       "std                 3.594770             0.258199                  2.728030   \n",
       "min                 1.000000             3.000000                  2.000000   \n",
       "25%                 2.000000             4.000000                  7.000000   \n",
       "50%                 2.000000             4.000000                  7.000000   \n",
       "75%                 7.000000             4.000000                  7.000000   \n",
       "max                24.000000             4.000000                 21.000000   \n",
       "\n",
       "       airconditioningtypeid      parcelid            id  basementsqft  ...  \\\n",
       "count           25007.000000  7.758000e+04  7.758000e+04     50.000000  ...   \n",
       "mean                1.812013  1.300828e+07  1.495404e+06    679.720000  ...   \n",
       "std                 2.965768  3.519376e+06  8.609700e+05    689.703546  ...   \n",
       "min                 1.000000  1.071186e+07  3.490000e+02     38.000000  ...   \n",
       "25%                 1.000000  1.153820e+07  7.521430e+05    273.000000  ...   \n",
       "50%                 1.000000  1.253056e+07  1.498256e+06    515.000000  ...   \n",
       "75%                 1.000000  1.421135e+07  2.240950e+06    796.500000  ...   \n",
       "max                13.000000  1.676893e+08  2.982274e+06   3560.000000  ...   \n",
       "\n",
       "       fireplaceflag  structuretaxvaluedollarcnt  taxvaluedollarcnt  \\\n",
       "count          172.0                7.746500e+04       7.757900e+04   \n",
       "mean             1.0                1.892796e+05       4.901476e+05   \n",
       "std              0.0                2.304095e+05       6.537942e+05   \n",
       "min              1.0                4.400000e+01       1.000000e+03   \n",
       "25%              1.0                8.417100e+04       2.068990e+05   \n",
       "50%              1.0                1.364020e+05       3.588780e+05   \n",
       "75%              1.0                2.187340e+05       5.690000e+05   \n",
       "max              1.0                1.142179e+07       4.906124e+07   \n",
       "\n",
       "       assessmentyear  landtaxvaluedollarcnt      taxamount  \\\n",
       "count         77580.0           7.757800e+04   77575.000000   \n",
       "mean           2016.0           3.011500e+05    5995.927626   \n",
       "std               0.0           4.927219e+05    7628.816490   \n",
       "min            2016.0           1.610000e+02      19.920000   \n",
       "25%            2016.0           8.529325e+04    2712.650000   \n",
       "50%            2016.0           2.031810e+05    4448.230000   \n",
       "75%            2016.0           3.667398e+05    6926.885000   \n",
       "max            2016.0           4.895220e+07  586639.300000   \n",
       "\n",
       "       taxdelinquencyyear  censustractandblock            id      logerror  \n",
       "count         2900.000000         7.733300e+04  77580.000000  77580.000000  \n",
       "mean            14.088276         6.049667e+13  38806.723795      0.016800  \n",
       "std              2.181281         1.533329e+12  22403.756329      0.170739  \n",
       "min              3.000000         6.037101e+13      0.000000     -4.655420  \n",
       "25%             14.000000         6.037311e+13  19404.750000     -0.024310  \n",
       "50%             15.000000         6.037603e+13  38804.500000      0.006675  \n",
       "75%             15.000000         6.059042e+13  58208.250000      0.039291  \n",
       "max             99.000000         4.830301e+14  77613.000000      5.262999  \n",
       "\n",
       "[8 rows x 58 columns]"
      ]
     },
     "execution_count": 7,
     "metadata": {},
     "output_type": "execute_result"
    }
   ],
   "source": [
    "df.describe()"
   ]
  },
  {
   "cell_type": "markdown",
   "metadata": {},
   "source": [
    "#### Value counts"
   ]
  },
  {
   "cell_type": "code",
   "execution_count": 8,
   "metadata": {},
   "outputs": [
    {
     "data": {
      "text/plain": [
       "0.0       599\n",
       "1.0     12945\n",
       "1.5      1419\n",
       "2.0     31576\n",
       "2.5      6607\n",
       "3.0     17354\n",
       "3.5      1036\n",
       "4.0      3356\n",
       "4.5       696\n",
       "5.0      1026\n",
       "5.5       224\n",
       "6.0       419\n",
       "6.5        47\n",
       "7.0       114\n",
       "7.5        16\n",
       "8.0       108\n",
       "8.5         3\n",
       "9.0        23\n",
       "10.0        7\n",
       "11.0        3\n",
       "13.0        1\n",
       "18.0        1\n",
       "Name: bathroomcnt, dtype: int64"
      ]
     },
     "execution_count": 8,
     "metadata": {},
     "output_type": "execute_result"
    }
   ],
   "source": [
    "df.bathroomcnt.value_counts().sort_index()"
   ]
  },
  {
   "cell_type": "markdown",
   "metadata": {},
   "source": [
    "#### 3. Write a function that takes in a dataframe of observations and attributes and returns a dataframe where each row is an atttribute name, the first column is the number of rows with missing values for that attribute, and the second column is percent of total rows that have missing values for that attribute. Run the function and document takeaways from this on how you want to handle missing values.                                                                                                         "
   ]
  },
  {
   "cell_type": "code",
   "execution_count": 9,
   "metadata": {},
   "outputs": [],
   "source": [
    "# So we are trying to find the number of rows with missing values and the percent of total rows that have missing values"
   ]
  },
  {
   "cell_type": "code",
   "execution_count": 10,
   "metadata": {},
   "outputs": [
    {
     "data": {
      "text/plain": [
       "buildingclasstypeid     77565\n",
       "buildingclassdesc       77565\n",
       "finishedsquarefeet13    77538\n",
       "storytypeid             77530\n",
       "basementsqft            77530\n",
       "dtype: int64"
      ]
     },
     "execution_count": 10,
     "metadata": {},
     "output_type": "execute_result"
    }
   ],
   "source": [
    "null_counts = df.isnull().sum().sort_values(ascending=False)\n",
    "null_counts.head()"
   ]
  },
  {
   "cell_type": "code",
   "execution_count": 11,
   "metadata": {},
   "outputs": [],
   "source": [
    "def nulls_by_col(df):\n",
    "    num_missing = df.isnull().sum()\n",
    "    rows = df.shape[0]\n",
    "    pct_missing = num_missing / rows\n",
    "    cols_missing = pd.DataFrame({'rows_missing_values': num_missing, 'percent_of_rows_missing_values': pct_missing})\n",
    "    return cols_missing"
   ]
  },
  {
   "cell_type": "code",
   "execution_count": 12,
   "metadata": {},
   "outputs": [
    {
     "data": {
      "text/html": [
       "<div>\n",
       "<style scoped>\n",
       "    .dataframe tbody tr th:only-of-type {\n",
       "        vertical-align: middle;\n",
       "    }\n",
       "\n",
       "    .dataframe tbody tr th {\n",
       "        vertical-align: top;\n",
       "    }\n",
       "\n",
       "    .dataframe thead th {\n",
       "        text-align: right;\n",
       "    }\n",
       "</style>\n",
       "<table border=\"1\" class=\"dataframe\">\n",
       "  <thead>\n",
       "    <tr style=\"text-align: right;\">\n",
       "      <th></th>\n",
       "      <th>rows_missing_values</th>\n",
       "      <th>percent_of_rows_missing_values</th>\n",
       "    </tr>\n",
       "  </thead>\n",
       "  <tbody>\n",
       "    <tr>\n",
       "      <th>buildingclassdesc</th>\n",
       "      <td>77565</td>\n",
       "      <td>0.999807</td>\n",
       "    </tr>\n",
       "    <tr>\n",
       "      <th>buildingclasstypeid</th>\n",
       "      <td>77565</td>\n",
       "      <td>0.999807</td>\n",
       "    </tr>\n",
       "    <tr>\n",
       "      <th>finishedsquarefeet13</th>\n",
       "      <td>77538</td>\n",
       "      <td>0.999459</td>\n",
       "    </tr>\n",
       "    <tr>\n",
       "      <th>storydesc</th>\n",
       "      <td>77530</td>\n",
       "      <td>0.999356</td>\n",
       "    </tr>\n",
       "    <tr>\n",
       "      <th>basementsqft</th>\n",
       "      <td>77530</td>\n",
       "      <td>0.999356</td>\n",
       "    </tr>\n",
       "    <tr>\n",
       "      <th>storytypeid</th>\n",
       "      <td>77530</td>\n",
       "      <td>0.999356</td>\n",
       "    </tr>\n",
       "    <tr>\n",
       "      <th>yardbuildingsqft26</th>\n",
       "      <td>77510</td>\n",
       "      <td>0.999098</td>\n",
       "    </tr>\n",
       "    <tr>\n",
       "      <th>fireplaceflag</th>\n",
       "      <td>77408</td>\n",
       "      <td>0.997783</td>\n",
       "    </tr>\n",
       "    <tr>\n",
       "      <th>architecturalstyletypeid</th>\n",
       "      <td>77373</td>\n",
       "      <td>0.997332</td>\n",
       "    </tr>\n",
       "    <tr>\n",
       "      <th>architecturalstyledesc</th>\n",
       "      <td>77373</td>\n",
       "      <td>0.997332</td>\n",
       "    </tr>\n",
       "  </tbody>\n",
       "</table>\n",
       "</div>"
      ],
      "text/plain": [
       "                          rows_missing_values  percent_of_rows_missing_values\n",
       "buildingclassdesc                       77565                        0.999807\n",
       "buildingclasstypeid                     77565                        0.999807\n",
       "finishedsquarefeet13                    77538                        0.999459\n",
       "storydesc                               77530                        0.999356\n",
       "basementsqft                            77530                        0.999356\n",
       "storytypeid                             77530                        0.999356\n",
       "yardbuildingsqft26                      77510                        0.999098\n",
       "fireplaceflag                           77408                        0.997783\n",
       "architecturalstyletypeid                77373                        0.997332\n",
       "architecturalstyledesc                  77373                        0.997332"
      ]
     },
     "execution_count": 12,
     "metadata": {},
     "output_type": "execute_result"
    }
   ],
   "source": [
    "nulls_by_column = nulls_by_col(df)\n",
    "nulls_by_column.sort_values(by=\"percent_of_rows_missing_values\", ascending=False, inplace=True)\n",
    "nulls_by_column.head(10)"
   ]
  },
  {
   "cell_type": "markdown",
   "metadata": {},
   "source": [
    "#### 4. Write a function that takes in a dataframe and returns a dataframe with 3 columns: the number of columns missing, percent of columns missing, and number of rows with n columns missing. Run the function and document takeaways from this on how you want to handle missing values."
   ]
  },
  {
   "cell_type": "code",
   "execution_count": 13,
   "metadata": {},
   "outputs": [
    {
     "data": {
      "text/html": [
       "<div>\n",
       "<style scoped>\n",
       "    .dataframe tbody tr th:only-of-type {\n",
       "        vertical-align: middle;\n",
       "    }\n",
       "\n",
       "    .dataframe tbody tr th {\n",
       "        vertical-align: top;\n",
       "    }\n",
       "\n",
       "    .dataframe thead th {\n",
       "        text-align: right;\n",
       "    }\n",
       "</style>\n",
       "<table border=\"1\" class=\"dataframe\">\n",
       "  <thead>\n",
       "    <tr style=\"text-align: right;\">\n",
       "      <th></th>\n",
       "      <th>num_cols_missing</th>\n",
       "      <th>pct_cols_missing</th>\n",
       "      <th>num_rows_with_n_cols_missing</th>\n",
       "    </tr>\n",
       "  </thead>\n",
       "  <tbody>\n",
       "    <tr>\n",
       "      <th>25</th>\n",
       "      <td>48</td>\n",
       "      <td>69.56521739130434</td>\n",
       "      <td>3</td>\n",
       "    </tr>\n",
       "    <tr>\n",
       "      <th>24</th>\n",
       "      <td>47</td>\n",
       "      <td>68.11594202898551</td>\n",
       "      <td>3</td>\n",
       "    </tr>\n",
       "    <tr>\n",
       "      <th>23</th>\n",
       "      <td>46</td>\n",
       "      <td>66.66666666666666</td>\n",
       "      <td>5</td>\n",
       "    </tr>\n",
       "    <tr>\n",
       "      <th>22</th>\n",
       "      <td>45</td>\n",
       "      <td>65.21739130434783</td>\n",
       "      <td>50</td>\n",
       "    </tr>\n",
       "    <tr>\n",
       "      <th>21</th>\n",
       "      <td>44</td>\n",
       "      <td>63.76811594202898</td>\n",
       "      <td>79</td>\n",
       "    </tr>\n",
       "    <tr>\n",
       "      <th>20</th>\n",
       "      <td>43</td>\n",
       "      <td>62.31884057971014</td>\n",
       "      <td>29</td>\n",
       "    </tr>\n",
       "    <tr>\n",
       "      <th>19</th>\n",
       "      <td>42</td>\n",
       "      <td>60.86956521739131</td>\n",
       "      <td>27</td>\n",
       "    </tr>\n",
       "    <tr>\n",
       "      <th>18</th>\n",
       "      <td>41</td>\n",
       "      <td>59.42028985507246</td>\n",
       "      <td>29</td>\n",
       "    </tr>\n",
       "    <tr>\n",
       "      <th>17</th>\n",
       "      <td>40</td>\n",
       "      <td>57.971014492753625</td>\n",
       "      <td>230</td>\n",
       "    </tr>\n",
       "    <tr>\n",
       "      <th>16</th>\n",
       "      <td>39</td>\n",
       "      <td>56.52173913043478</td>\n",
       "      <td>285</td>\n",
       "    </tr>\n",
       "  </tbody>\n",
       "</table>\n",
       "</div>"
      ],
      "text/plain": [
       "   num_cols_missing    pct_cols_missing  num_rows_with_n_cols_missing\n",
       "25               48   69.56521739130434                             3\n",
       "24               47   68.11594202898551                             3\n",
       "23               46   66.66666666666666                             5\n",
       "22               45   65.21739130434783                            50\n",
       "21               44   63.76811594202898                            79\n",
       "20               43   62.31884057971014                            29\n",
       "19               42   60.86956521739131                            27\n",
       "18               41   59.42028985507246                            29\n",
       "17               40  57.971014492753625                           230\n",
       "16               39   56.52173913043478                           285"
      ]
     },
     "execution_count": 13,
     "metadata": {},
     "output_type": "execute_result"
    }
   ],
   "source": [
    "def nulls_by_row(df):\n",
    "    num_cols_missing = df.isnull().sum(axis=1)\n",
    "    pct_cols_missing = df.isnull().sum(axis=1)/df.shape[1]*100\n",
    "    rows_missing = pd.DataFrame({'num_cols_missing': num_cols_missing, 'pct_cols_missing': pct_cols_missing}).reset_index().groupby(['num_cols_missing','pct_cols_missing']).count().rename(index=str, columns={'index': 'num_rows_with_n_cols_missing'}).reset_index()\n",
    "    return rows_missing \n",
    "\n",
    "null_rows = nulls_by_row(df)\n",
    "null_rows.sort_values(by=\"pct_cols_missing\", ascending=False, inplace=True)\n",
    "null_rows.head(10)"
   ]
  },
  {
   "cell_type": "markdown",
   "metadata": {},
   "source": [
    "## Prepare (prepare.py)"
   ]
  },
  {
   "cell_type": "markdown",
   "metadata": {},
   "source": [
    "#### 1. Remove any properties that are likely to be something other than single unit properties. (e.g. no duplexes, no land/lot, ...). There are multiple ways to estimate that a property is a single unit, and there is not a single \"right\" answer. But for this exercise, do not purely filter by unitcnt as we did previously. Add some new logic that will reduce the number of properties that are falsely removed. You might want to use # bedrooms, square feet, unit type or the like to then identify those with unitcnt not defined."
   ]
  },
  {
   "cell_type": "markdown",
   "metadata": {},
   "source": [
    "Keeping:\n",
    "- 260: residential general\n",
    "- 261: single family residential\n",
    "- 262: rural residence\n",
    "- 279: inferred single family residential"
   ]
  },
  {
   "cell_type": "code",
   "execution_count": 14,
   "metadata": {},
   "outputs": [],
   "source": [
    "df = df[df.propertylandusetypeid.isin([260, 261, 262, 279])]"
   ]
  },
  {
   "cell_type": "code",
   "execution_count": 15,
   "metadata": {},
   "outputs": [
    {
     "data": {
      "text/plain": [
       "(52300, 69)"
      ]
     },
     "execution_count": 15,
     "metadata": {},
     "output_type": "execute_result"
    }
   ],
   "source": [
    "# Keeping properties with only positive number of bedrooms and bathrooms\n",
    "df = df[(df.bedroomcnt > 0) & (df.bathroomcnt > 0)]\n",
    "df.shape"
   ]
  },
  {
   "cell_type": "code",
   "execution_count": 16,
   "metadata": {},
   "outputs": [
    {
     "data": {
      "text/plain": [
       "1.0    33783\n",
       "2.0       28\n",
       "4.0        3\n",
       "3.0        1\n",
       "Name: unitcnt, dtype: int64"
      ]
     },
     "execution_count": 16,
     "metadata": {},
     "output_type": "execute_result"
    }
   ],
   "source": [
    "df.unitcnt.value_counts()"
   ]
  },
  {
   "cell_type": "code",
   "execution_count": 17,
   "metadata": {},
   "outputs": [
    {
     "data": {
      "text/plain": [
       "18485"
      ]
     },
     "execution_count": 17,
     "metadata": {},
     "output_type": "execute_result"
    }
   ],
   "source": [
    "df.unitcnt.isnull().sum()"
   ]
  },
  {
   "cell_type": "code",
   "execution_count": 18,
   "metadata": {},
   "outputs": [
    {
     "data": {
      "text/plain": [
       "(52300, 69)"
      ]
     },
     "execution_count": 18,
     "metadata": {},
     "output_type": "execute_result"
    }
   ],
   "source": [
    "df.unitcnt = df.unitcnt.fillna(1.0)\n",
    "df.shape"
   ]
  },
  {
   "cell_type": "code",
   "execution_count": 19,
   "metadata": {},
   "outputs": [
    {
     "data": {
      "text/plain": [
       "32"
      ]
     },
     "execution_count": 19,
     "metadata": {},
     "output_type": "execute_result"
    }
   ],
   "source": [
    "# How many unitcounts are not 1?\n",
    "(df.unitcnt != 1.0).sum()"
   ]
  },
  {
   "cell_type": "code",
   "execution_count": 20,
   "metadata": {},
   "outputs": [],
   "source": [
    "# Filter the duplex, triplex, etc...\n",
    "df = df[df.unitcnt == 1.0]"
   ]
  },
  {
   "cell_type": "markdown",
   "metadata": {},
   "source": [
    "#### 2. Create a function that will drop rows or columns based on the percent of values that are missing: handle_missing_values(df, prop_required_column, prop_required_row).\n",
    "\n",
    "- The input:\n",
    "    - A dataframe\n",
    "    - A number between 0 and 1 that represents the proportion, for each column, of rows with non-missing values required to keep the column. i.e. if prop_required_column = .6, then you are requiring a column to have at least 60% of values not-NA (no more than 40% missing).\n",
    "   - A number between 0 and 1 that represents the proportion, for each row, of columns/variables with non-missing values required to keep the row. For example, if prop_required_row = .75, then you are requiring a row to have at least 75% of variables with a non-missing value (no more that 25% missing).  \n",
    "   \n",
    "- The output:\n",
    "    - The dataframe with the columns and rows dropped as indicated. Be sure to drop the columns prior to the rows in your function.  \n",
    "    \n",
    "- Hint:\n",
    "    - Look up the dropna documentation.\n",
    "    - You will want to compute a threshold from your input values (prop_required) and total number of rows or columns.\n",
    "    - Make use of inplace, i.e. inplace=True/False."
   ]
  },
  {
   "cell_type": "code",
   "execution_count": 21,
   "metadata": {},
   "outputs": [],
   "source": [
    "def handle_missing_values(df, prop_required_column = .60, prop_required_row = .60):\n",
    "    threshold = int(round(prop_required_column*len(df.index),0))\n",
    "    df.dropna(axis=1, thresh=threshold, inplace=True)\n",
    "    threshold = int(round(prop_required_row*len(df.columns),0))\n",
    "    df.dropna(axis=0, thresh=threshold, inplace=True)\n",
    "    return df"
   ]
  },
  {
   "cell_type": "code",
   "execution_count": 22,
   "metadata": {},
   "outputs": [
    {
     "data": {
      "text/html": [
       "<div>\n",
       "<style scoped>\n",
       "    .dataframe tbody tr th:only-of-type {\n",
       "        vertical-align: middle;\n",
       "    }\n",
       "\n",
       "    .dataframe tbody tr th {\n",
       "        vertical-align: top;\n",
       "    }\n",
       "\n",
       "    .dataframe thead th {\n",
       "        text-align: right;\n",
       "    }\n",
       "</style>\n",
       "<table border=\"1\" class=\"dataframe\">\n",
       "  <thead>\n",
       "    <tr style=\"text-align: right;\">\n",
       "      <th></th>\n",
       "      <th>propertylandusetypeid</th>\n",
       "      <th>heatingorsystemtypeid</th>\n",
       "      <th>parcelid</th>\n",
       "      <th>id</th>\n",
       "      <th>bathroomcnt</th>\n",
       "      <th>bedroomcnt</th>\n",
       "      <th>buildingqualitytypeid</th>\n",
       "      <th>calculatedbathnbr</th>\n",
       "      <th>calculatedfinishedsquarefeet</th>\n",
       "      <th>finishedsquarefeet12</th>\n",
       "      <th>...</th>\n",
       "      <th>taxvaluedollarcnt</th>\n",
       "      <th>assessmentyear</th>\n",
       "      <th>landtaxvaluedollarcnt</th>\n",
       "      <th>taxamount</th>\n",
       "      <th>censustractandblock</th>\n",
       "      <th>id</th>\n",
       "      <th>logerror</th>\n",
       "      <th>transactiondate</th>\n",
       "      <th>heatingorsystemdesc</th>\n",
       "      <th>propertylandusedesc</th>\n",
       "    </tr>\n",
       "  </thead>\n",
       "  <tbody>\n",
       "    <tr>\n",
       "      <th>0</th>\n",
       "      <td>261.0</td>\n",
       "      <td>NaN</td>\n",
       "      <td>14297519</td>\n",
       "      <td>1727539</td>\n",
       "      <td>3.5</td>\n",
       "      <td>4.0</td>\n",
       "      <td>NaN</td>\n",
       "      <td>3.5</td>\n",
       "      <td>3100.0</td>\n",
       "      <td>3100.0</td>\n",
       "      <td>...</td>\n",
       "      <td>1023282.0</td>\n",
       "      <td>2016.0</td>\n",
       "      <td>537569.0</td>\n",
       "      <td>11013.72</td>\n",
       "      <td>6.059063e+13</td>\n",
       "      <td>0</td>\n",
       "      <td>0.025595</td>\n",
       "      <td>2017-01-01</td>\n",
       "      <td>None</td>\n",
       "      <td>Single Family Residential</td>\n",
       "    </tr>\n",
       "    <tr>\n",
       "      <th>1</th>\n",
       "      <td>261.0</td>\n",
       "      <td>NaN</td>\n",
       "      <td>17052889</td>\n",
       "      <td>1387261</td>\n",
       "      <td>1.0</td>\n",
       "      <td>2.0</td>\n",
       "      <td>NaN</td>\n",
       "      <td>1.0</td>\n",
       "      <td>1465.0</td>\n",
       "      <td>1465.0</td>\n",
       "      <td>...</td>\n",
       "      <td>464000.0</td>\n",
       "      <td>2016.0</td>\n",
       "      <td>376000.0</td>\n",
       "      <td>5672.48</td>\n",
       "      <td>6.111001e+13</td>\n",
       "      <td>1</td>\n",
       "      <td>0.055619</td>\n",
       "      <td>2017-01-01</td>\n",
       "      <td>None</td>\n",
       "      <td>Single Family Residential</td>\n",
       "    </tr>\n",
       "    <tr>\n",
       "      <th>2</th>\n",
       "      <td>261.0</td>\n",
       "      <td>NaN</td>\n",
       "      <td>14186244</td>\n",
       "      <td>11677</td>\n",
       "      <td>2.0</td>\n",
       "      <td>3.0</td>\n",
       "      <td>NaN</td>\n",
       "      <td>2.0</td>\n",
       "      <td>1243.0</td>\n",
       "      <td>1243.0</td>\n",
       "      <td>...</td>\n",
       "      <td>564778.0</td>\n",
       "      <td>2016.0</td>\n",
       "      <td>479489.0</td>\n",
       "      <td>6488.30</td>\n",
       "      <td>6.059022e+13</td>\n",
       "      <td>2</td>\n",
       "      <td>0.005383</td>\n",
       "      <td>2017-01-01</td>\n",
       "      <td>None</td>\n",
       "      <td>Single Family Residential</td>\n",
       "    </tr>\n",
       "    <tr>\n",
       "      <th>3</th>\n",
       "      <td>261.0</td>\n",
       "      <td>2.0</td>\n",
       "      <td>12177905</td>\n",
       "      <td>2288172</td>\n",
       "      <td>3.0</td>\n",
       "      <td>4.0</td>\n",
       "      <td>8.0</td>\n",
       "      <td>3.0</td>\n",
       "      <td>2376.0</td>\n",
       "      <td>2376.0</td>\n",
       "      <td>...</td>\n",
       "      <td>145143.0</td>\n",
       "      <td>2016.0</td>\n",
       "      <td>36225.0</td>\n",
       "      <td>1777.51</td>\n",
       "      <td>6.037300e+13</td>\n",
       "      <td>3</td>\n",
       "      <td>-0.103410</td>\n",
       "      <td>2017-01-01</td>\n",
       "      <td>Central</td>\n",
       "      <td>Single Family Residential</td>\n",
       "    </tr>\n",
       "    <tr>\n",
       "      <th>6</th>\n",
       "      <td>261.0</td>\n",
       "      <td>2.0</td>\n",
       "      <td>12095076</td>\n",
       "      <td>781532</td>\n",
       "      <td>3.0</td>\n",
       "      <td>4.0</td>\n",
       "      <td>9.0</td>\n",
       "      <td>3.0</td>\n",
       "      <td>2962.0</td>\n",
       "      <td>2962.0</td>\n",
       "      <td>...</td>\n",
       "      <td>773303.0</td>\n",
       "      <td>2016.0</td>\n",
       "      <td>496619.0</td>\n",
       "      <td>9516.26</td>\n",
       "      <td>6.037461e+13</td>\n",
       "      <td>6</td>\n",
       "      <td>-0.001011</td>\n",
       "      <td>2017-01-01</td>\n",
       "      <td>Central</td>\n",
       "      <td>Single Family Residential</td>\n",
       "    </tr>\n",
       "  </tbody>\n",
       "</table>\n",
       "<p>5 rows × 35 columns</p>\n",
       "</div>"
      ],
      "text/plain": [
       "   propertylandusetypeid  heatingorsystemtypeid  parcelid       id  \\\n",
       "0                  261.0                    NaN  14297519  1727539   \n",
       "1                  261.0                    NaN  17052889  1387261   \n",
       "2                  261.0                    NaN  14186244    11677   \n",
       "3                  261.0                    2.0  12177905  2288172   \n",
       "6                  261.0                    2.0  12095076   781532   \n",
       "\n",
       "   bathroomcnt  bedroomcnt  buildingqualitytypeid  calculatedbathnbr  \\\n",
       "0          3.5         4.0                    NaN                3.5   \n",
       "1          1.0         2.0                    NaN                1.0   \n",
       "2          2.0         3.0                    NaN                2.0   \n",
       "3          3.0         4.0                    8.0                3.0   \n",
       "6          3.0         4.0                    9.0                3.0   \n",
       "\n",
       "   calculatedfinishedsquarefeet  finishedsquarefeet12  ...  taxvaluedollarcnt  \\\n",
       "0                        3100.0                3100.0  ...          1023282.0   \n",
       "1                        1465.0                1465.0  ...           464000.0   \n",
       "2                        1243.0                1243.0  ...           564778.0   \n",
       "3                        2376.0                2376.0  ...           145143.0   \n",
       "6                        2962.0                2962.0  ...           773303.0   \n",
       "\n",
       "   assessmentyear  landtaxvaluedollarcnt  taxamount  censustractandblock id  \\\n",
       "0          2016.0               537569.0   11013.72         6.059063e+13  0   \n",
       "1          2016.0               376000.0    5672.48         6.111001e+13  1   \n",
       "2          2016.0               479489.0    6488.30         6.059022e+13  2   \n",
       "3          2016.0                36225.0    1777.51         6.037300e+13  3   \n",
       "6          2016.0               496619.0    9516.26         6.037461e+13  6   \n",
       "\n",
       "   logerror  transactiondate  heatingorsystemdesc        propertylandusedesc  \n",
       "0  0.025595       2017-01-01                 None  Single Family Residential  \n",
       "1  0.055619       2017-01-01                 None  Single Family Residential  \n",
       "2  0.005383       2017-01-01                 None  Single Family Residential  \n",
       "3 -0.103410       2017-01-01              Central  Single Family Residential  \n",
       "6 -0.001011       2017-01-01              Central  Single Family Residential  \n",
       "\n",
       "[5 rows x 35 columns]"
      ]
     },
     "execution_count": 22,
     "metadata": {},
     "output_type": "execute_result"
    }
   ],
   "source": [
    "df = handle_missing_values(df)\n",
    "df.head()"
   ]
  },
  {
   "cell_type": "markdown",
   "metadata": {},
   "source": [
    "#### 3. Decide how to handle the remaining missing values:\n",
    "\n",
    "- Fill with constant value.\n",
    "- Impute with mean, median, mode.\n",
    "- Drop row/column"
   ]
  },
  {
   "cell_type": "code",
   "execution_count": 23,
   "metadata": {},
   "outputs": [],
   "source": [
    "# Columns to drop\n",
    "df = df.drop(columns=[\"propertylandusetypeid\", \"heatingorsystemtypeid\"])"
   ]
  },
  {
   "cell_type": "code",
   "execution_count": 24,
   "metadata": {},
   "outputs": [
    {
     "data": {
      "text/plain": [
       "buildingqualitytypeid           18571\n",
       "propertyzoningdesc              18510\n",
       "heatingorsystemdesc             18369\n",
       "regionidcity                     1029\n",
       "lotsizesquarefeet                 351\n",
       "finishedsquarefeet12              166\n",
       "censustractandblock               109\n",
       "structuretaxvaluedollarcnt         71\n",
       "yearbuilt                          40\n",
       "regionidzip                        23\n",
       "calculatedbathnbr                  16\n",
       "fullbathcnt                        16\n",
       "calculatedfinishedsquarefeet        8\n",
       "taxamount                           4\n",
       "landtaxvaluedollarcnt               1\n",
       "taxvaluedollarcnt                   1\n",
       "bedroomcnt                          0\n",
       "latitude                            0\n",
       "bathroomcnt                         0\n",
       "fips                                0\n",
       "id                                  0\n",
       "propertylandusedesc                 0\n",
       "longitude                           0\n",
       "propertycountylandusecode           0\n",
       "rawcensustractandblock              0\n",
       "regionidcounty                      0\n",
       "roomcnt                             0\n",
       "unitcnt                             0\n",
       "assessmentyear                      0\n",
       "id                                  0\n",
       "logerror                            0\n",
       "transactiondate                     0\n",
       "parcelid                            0\n",
       "dtype: int64"
      ]
     },
     "execution_count": 24,
     "metadata": {},
     "output_type": "execute_result"
    }
   ],
   "source": [
    "df.isnull().sum().sort_values(ascending=False)"
   ]
  },
  {
   "cell_type": "code",
   "execution_count": 25,
   "metadata": {},
   "outputs": [
    {
     "data": {
      "text/plain": [
       "18369"
      ]
     },
     "execution_count": 25,
     "metadata": {},
     "output_type": "execute_result"
    }
   ],
   "source": [
    "df.heatingorsystemdesc.isnull().sum()"
   ]
  },
  {
   "cell_type": "code",
   "execution_count": 26,
   "metadata": {},
   "outputs": [
    {
     "data": {
      "text/plain": [
       "Central       20723\n",
       "NaN           18369\n",
       "Floor/Wall    12542\n",
       "Forced air      517\n",
       "Solar            85\n",
       "None             16\n",
       "Baseboard         7\n",
       "Radiant           6\n",
       "Gravity           2\n",
       "Yes               1\n",
       "Name: heatingorsystemdesc, dtype: int64"
      ]
     },
     "execution_count": 26,
     "metadata": {},
     "output_type": "execute_result"
    }
   ],
   "source": [
    "df.heatingorsystemdesc.value_counts(dropna=False)"
   ]
  },
  {
   "cell_type": "code",
   "execution_count": 27,
   "metadata": {},
   "outputs": [],
   "source": [
    "df.heatingorsystemdesc = df.heatingorsystemdesc.fillna(\"None\")"
   ]
  },
  {
   "cell_type": "code",
   "execution_count": 28,
   "metadata": {},
   "outputs": [],
   "source": [
    "df = df.drop(columns=[\"propertyzoningdesc\"])"
   ]
  },
  {
   "cell_type": "code",
   "execution_count": 29,
   "metadata": {},
   "outputs": [],
   "source": [
    "(df.calculatedbathnbr == df.bathroomcnt).sum() / len(df)\n",
    "df = df.drop(columns=[\"calculatedbathnbr\"])"
   ]
  },
  {
   "cell_type": "code",
   "execution_count": 30,
   "metadata": {},
   "outputs": [
    {
     "data": {
      "text/plain": [
       "buildingqualitytypeid           18571\n",
       "regionidcity                     1029\n",
       "lotsizesquarefeet                 351\n",
       "finishedsquarefeet12              166\n",
       "censustractandblock               109\n",
       "structuretaxvaluedollarcnt         71\n",
       "yearbuilt                          40\n",
       "regionidzip                        23\n",
       "fullbathcnt                        16\n",
       "calculatedfinishedsquarefeet        8\n",
       "dtype: int64"
      ]
     },
     "execution_count": 30,
     "metadata": {},
     "output_type": "execute_result"
    }
   ],
   "source": [
    "df.isna().sum().sort_values(ascending=False).head(10)"
   ]
  },
  {
   "cell_type": "code",
   "execution_count": 31,
   "metadata": {},
   "outputs": [
    {
     "data": {
      "text/html": [
       "<div>\n",
       "<style scoped>\n",
       "    .dataframe tbody tr th:only-of-type {\n",
       "        vertical-align: middle;\n",
       "    }\n",
       "\n",
       "    .dataframe tbody tr th {\n",
       "        vertical-align: top;\n",
       "    }\n",
       "\n",
       "    .dataframe thead th {\n",
       "        text-align: right;\n",
       "    }\n",
       "</style>\n",
       "<table border=\"1\" class=\"dataframe\">\n",
       "  <thead>\n",
       "    <tr style=\"text-align: right;\">\n",
       "      <th></th>\n",
       "      <th>parcelid</th>\n",
       "      <th>id</th>\n",
       "      <th>bathroomcnt</th>\n",
       "      <th>bedroomcnt</th>\n",
       "      <th>buildingqualitytypeid</th>\n",
       "      <th>calculatedfinishedsquarefeet</th>\n",
       "      <th>finishedsquarefeet12</th>\n",
       "      <th>fips</th>\n",
       "      <th>fullbathcnt</th>\n",
       "      <th>latitude</th>\n",
       "      <th>...</th>\n",
       "      <th>taxvaluedollarcnt</th>\n",
       "      <th>assessmentyear</th>\n",
       "      <th>landtaxvaluedollarcnt</th>\n",
       "      <th>taxamount</th>\n",
       "      <th>censustractandblock</th>\n",
       "      <th>id</th>\n",
       "      <th>logerror</th>\n",
       "      <th>transactiondate</th>\n",
       "      <th>heatingorsystemdesc</th>\n",
       "      <th>propertylandusedesc</th>\n",
       "    </tr>\n",
       "  </thead>\n",
       "  <tbody>\n",
       "    <tr>\n",
       "      <th>0</th>\n",
       "      <td>14297519</td>\n",
       "      <td>1727539</td>\n",
       "      <td>3.5</td>\n",
       "      <td>4.0</td>\n",
       "      <td>NaN</td>\n",
       "      <td>3100.0</td>\n",
       "      <td>3100.0</td>\n",
       "      <td>6059.0</td>\n",
       "      <td>3.0</td>\n",
       "      <td>33634931.0</td>\n",
       "      <td>...</td>\n",
       "      <td>1023282.0</td>\n",
       "      <td>2016.0</td>\n",
       "      <td>537569.0</td>\n",
       "      <td>11013.72</td>\n",
       "      <td>6.059063e+13</td>\n",
       "      <td>0</td>\n",
       "      <td>0.025595</td>\n",
       "      <td>2017-01-01</td>\n",
       "      <td>None</td>\n",
       "      <td>Single Family Residential</td>\n",
       "    </tr>\n",
       "    <tr>\n",
       "      <th>1</th>\n",
       "      <td>17052889</td>\n",
       "      <td>1387261</td>\n",
       "      <td>1.0</td>\n",
       "      <td>2.0</td>\n",
       "      <td>NaN</td>\n",
       "      <td>1465.0</td>\n",
       "      <td>1465.0</td>\n",
       "      <td>6111.0</td>\n",
       "      <td>1.0</td>\n",
       "      <td>34449266.0</td>\n",
       "      <td>...</td>\n",
       "      <td>464000.0</td>\n",
       "      <td>2016.0</td>\n",
       "      <td>376000.0</td>\n",
       "      <td>5672.48</td>\n",
       "      <td>6.111001e+13</td>\n",
       "      <td>1</td>\n",
       "      <td>0.055619</td>\n",
       "      <td>2017-01-01</td>\n",
       "      <td>None</td>\n",
       "      <td>Single Family Residential</td>\n",
       "    </tr>\n",
       "    <tr>\n",
       "      <th>2</th>\n",
       "      <td>14186244</td>\n",
       "      <td>11677</td>\n",
       "      <td>2.0</td>\n",
       "      <td>3.0</td>\n",
       "      <td>NaN</td>\n",
       "      <td>1243.0</td>\n",
       "      <td>1243.0</td>\n",
       "      <td>6059.0</td>\n",
       "      <td>2.0</td>\n",
       "      <td>33886168.0</td>\n",
       "      <td>...</td>\n",
       "      <td>564778.0</td>\n",
       "      <td>2016.0</td>\n",
       "      <td>479489.0</td>\n",
       "      <td>6488.30</td>\n",
       "      <td>6.059022e+13</td>\n",
       "      <td>2</td>\n",
       "      <td>0.005383</td>\n",
       "      <td>2017-01-01</td>\n",
       "      <td>None</td>\n",
       "      <td>Single Family Residential</td>\n",
       "    </tr>\n",
       "    <tr>\n",
       "      <th>3</th>\n",
       "      <td>12177905</td>\n",
       "      <td>2288172</td>\n",
       "      <td>3.0</td>\n",
       "      <td>4.0</td>\n",
       "      <td>8.0</td>\n",
       "      <td>2376.0</td>\n",
       "      <td>2376.0</td>\n",
       "      <td>6037.0</td>\n",
       "      <td>3.0</td>\n",
       "      <td>34245180.0</td>\n",
       "      <td>...</td>\n",
       "      <td>145143.0</td>\n",
       "      <td>2016.0</td>\n",
       "      <td>36225.0</td>\n",
       "      <td>1777.51</td>\n",
       "      <td>6.037300e+13</td>\n",
       "      <td>3</td>\n",
       "      <td>-0.103410</td>\n",
       "      <td>2017-01-01</td>\n",
       "      <td>Central</td>\n",
       "      <td>Single Family Residential</td>\n",
       "    </tr>\n",
       "    <tr>\n",
       "      <th>6</th>\n",
       "      <td>12095076</td>\n",
       "      <td>781532</td>\n",
       "      <td>3.0</td>\n",
       "      <td>4.0</td>\n",
       "      <td>9.0</td>\n",
       "      <td>2962.0</td>\n",
       "      <td>2962.0</td>\n",
       "      <td>6037.0</td>\n",
       "      <td>3.0</td>\n",
       "      <td>34145202.0</td>\n",
       "      <td>...</td>\n",
       "      <td>773303.0</td>\n",
       "      <td>2016.0</td>\n",
       "      <td>496619.0</td>\n",
       "      <td>9516.26</td>\n",
       "      <td>6.037461e+13</td>\n",
       "      <td>6</td>\n",
       "      <td>-0.001011</td>\n",
       "      <td>2017-01-01</td>\n",
       "      <td>Central</td>\n",
       "      <td>Single Family Residential</td>\n",
       "    </tr>\n",
       "  </tbody>\n",
       "</table>\n",
       "<p>5 rows × 31 columns</p>\n",
       "</div>"
      ],
      "text/plain": [
       "   parcelid       id  bathroomcnt  bedroomcnt  buildingqualitytypeid  \\\n",
       "0  14297519  1727539          3.5         4.0                    NaN   \n",
       "1  17052889  1387261          1.0         2.0                    NaN   \n",
       "2  14186244    11677          2.0         3.0                    NaN   \n",
       "3  12177905  2288172          3.0         4.0                    8.0   \n",
       "6  12095076   781532          3.0         4.0                    9.0   \n",
       "\n",
       "   calculatedfinishedsquarefeet  finishedsquarefeet12    fips  fullbathcnt  \\\n",
       "0                        3100.0                3100.0  6059.0          3.0   \n",
       "1                        1465.0                1465.0  6111.0          1.0   \n",
       "2                        1243.0                1243.0  6059.0          2.0   \n",
       "3                        2376.0                2376.0  6037.0          3.0   \n",
       "6                        2962.0                2962.0  6037.0          3.0   \n",
       "\n",
       "     latitude  ...  taxvaluedollarcnt  assessmentyear landtaxvaluedollarcnt  \\\n",
       "0  33634931.0  ...          1023282.0          2016.0              537569.0   \n",
       "1  34449266.0  ...           464000.0          2016.0              376000.0   \n",
       "2  33886168.0  ...           564778.0          2016.0              479489.0   \n",
       "3  34245180.0  ...           145143.0          2016.0               36225.0   \n",
       "6  34145202.0  ...           773303.0          2016.0              496619.0   \n",
       "\n",
       "   taxamount  censustractandblock  id  logerror  transactiondate  \\\n",
       "0   11013.72         6.059063e+13   0  0.025595       2017-01-01   \n",
       "1    5672.48         6.111001e+13   1  0.055619       2017-01-01   \n",
       "2    6488.30         6.059022e+13   2  0.005383       2017-01-01   \n",
       "3    1777.51         6.037300e+13   3 -0.103410       2017-01-01   \n",
       "6    9516.26         6.037461e+13   6 -0.001011       2017-01-01   \n",
       "\n",
       "   heatingorsystemdesc        propertylandusedesc  \n",
       "0                 None  Single Family Residential  \n",
       "1                 None  Single Family Residential  \n",
       "2                 None  Single Family Residential  \n",
       "3              Central  Single Family Residential  \n",
       "6              Central  Single Family Residential  \n",
       "\n",
       "[5 rows x 31 columns]"
      ]
     },
     "execution_count": 31,
     "metadata": {},
     "output_type": "execute_result"
    }
   ],
   "source": [
    "df.head()"
   ]
  },
  {
   "cell_type": "markdown",
   "metadata": {},
   "source": [
    "## Mall Customers"
   ]
  },
  {
   "cell_type": "markdown",
   "metadata": {},
   "source": [
    "### Notebook (Overview)"
   ]
  },
  {
   "cell_type": "markdown",
   "metadata": {},
   "source": [
    "1. Acquire data from mall_customers.customers in mysql database.\n",
    "2. Summarize data (include distributions and descriptive statistics).\n",
    "3. Detect outliers using IQR.\n",
    "4. Split data (train, validate, and test split).\n",
    "5. Encode categorical columns using a one hot encoder.\n",
    "6. Handles missing values.\n",
    "7. Scaling"
   ]
  },
  {
   "cell_type": "markdown",
   "metadata": {},
   "source": [
    "#### 1. Acquire data from mall_customers.customers in mysql database."
   ]
  },
  {
   "cell_type": "code",
   "execution_count": 32,
   "metadata": {},
   "outputs": [
    {
     "data": {
      "text/html": [
       "<div>\n",
       "<style scoped>\n",
       "    .dataframe tbody tr th:only-of-type {\n",
       "        vertical-align: middle;\n",
       "    }\n",
       "\n",
       "    .dataframe tbody tr th {\n",
       "        vertical-align: top;\n",
       "    }\n",
       "\n",
       "    .dataframe thead th {\n",
       "        text-align: right;\n",
       "    }\n",
       "</style>\n",
       "<table border=\"1\" class=\"dataframe\">\n",
       "  <thead>\n",
       "    <tr style=\"text-align: right;\">\n",
       "      <th></th>\n",
       "      <th>customer_id</th>\n",
       "      <th>gender</th>\n",
       "      <th>age</th>\n",
       "      <th>annual_income</th>\n",
       "      <th>spending_score</th>\n",
       "    </tr>\n",
       "  </thead>\n",
       "  <tbody>\n",
       "    <tr>\n",
       "      <th>0</th>\n",
       "      <td>1</td>\n",
       "      <td>Male</td>\n",
       "      <td>19</td>\n",
       "      <td>15</td>\n",
       "      <td>39</td>\n",
       "    </tr>\n",
       "    <tr>\n",
       "      <th>1</th>\n",
       "      <td>2</td>\n",
       "      <td>Male</td>\n",
       "      <td>21</td>\n",
       "      <td>15</td>\n",
       "      <td>81</td>\n",
       "    </tr>\n",
       "    <tr>\n",
       "      <th>2</th>\n",
       "      <td>3</td>\n",
       "      <td>Female</td>\n",
       "      <td>20</td>\n",
       "      <td>16</td>\n",
       "      <td>6</td>\n",
       "    </tr>\n",
       "    <tr>\n",
       "      <th>3</th>\n",
       "      <td>4</td>\n",
       "      <td>Female</td>\n",
       "      <td>23</td>\n",
       "      <td>16</td>\n",
       "      <td>77</td>\n",
       "    </tr>\n",
       "    <tr>\n",
       "      <th>4</th>\n",
       "      <td>5</td>\n",
       "      <td>Female</td>\n",
       "      <td>31</td>\n",
       "      <td>17</td>\n",
       "      <td>40</td>\n",
       "    </tr>\n",
       "  </tbody>\n",
       "</table>\n",
       "</div>"
      ],
      "text/plain": [
       "   customer_id  gender  age  annual_income  spending_score\n",
       "0            1    Male   19             15              39\n",
       "1            2    Male   21             15              81\n",
       "2            3  Female   20             16               6\n",
       "3            4  Female   23             16              77\n",
       "4            5  Female   31             17              40"
      ]
     },
     "execution_count": 32,
     "metadata": {},
     "output_type": "execute_result"
    }
   ],
   "source": [
    "df = acquire.new_mall_data()\n",
    "df.head()"
   ]
  },
  {
   "cell_type": "markdown",
   "metadata": {},
   "source": [
    "##### 2. Summarize data (include distributions and descriptive statistics)."
   ]
  },
  {
   "cell_type": "code",
   "execution_count": 33,
   "metadata": {},
   "outputs": [
    {
     "data": {
      "text/html": [
       "<div>\n",
       "<style scoped>\n",
       "    .dataframe tbody tr th:only-of-type {\n",
       "        vertical-align: middle;\n",
       "    }\n",
       "\n",
       "    .dataframe tbody tr th {\n",
       "        vertical-align: top;\n",
       "    }\n",
       "\n",
       "    .dataframe thead th {\n",
       "        text-align: right;\n",
       "    }\n",
       "</style>\n",
       "<table border=\"1\" class=\"dataframe\">\n",
       "  <thead>\n",
       "    <tr style=\"text-align: right;\">\n",
       "      <th></th>\n",
       "      <th>customer_id</th>\n",
       "      <th>age</th>\n",
       "      <th>annual_income</th>\n",
       "      <th>spending_score</th>\n",
       "    </tr>\n",
       "  </thead>\n",
       "  <tbody>\n",
       "    <tr>\n",
       "      <th>count</th>\n",
       "      <td>200.000000</td>\n",
       "      <td>200.000000</td>\n",
       "      <td>200.000000</td>\n",
       "      <td>200.000000</td>\n",
       "    </tr>\n",
       "    <tr>\n",
       "      <th>mean</th>\n",
       "      <td>100.500000</td>\n",
       "      <td>38.850000</td>\n",
       "      <td>60.560000</td>\n",
       "      <td>50.200000</td>\n",
       "    </tr>\n",
       "    <tr>\n",
       "      <th>std</th>\n",
       "      <td>57.879185</td>\n",
       "      <td>13.969007</td>\n",
       "      <td>26.264721</td>\n",
       "      <td>25.823522</td>\n",
       "    </tr>\n",
       "    <tr>\n",
       "      <th>min</th>\n",
       "      <td>1.000000</td>\n",
       "      <td>18.000000</td>\n",
       "      <td>15.000000</td>\n",
       "      <td>1.000000</td>\n",
       "    </tr>\n",
       "    <tr>\n",
       "      <th>25%</th>\n",
       "      <td>50.750000</td>\n",
       "      <td>28.750000</td>\n",
       "      <td>41.500000</td>\n",
       "      <td>34.750000</td>\n",
       "    </tr>\n",
       "    <tr>\n",
       "      <th>50%</th>\n",
       "      <td>100.500000</td>\n",
       "      <td>36.000000</td>\n",
       "      <td>61.500000</td>\n",
       "      <td>50.000000</td>\n",
       "    </tr>\n",
       "    <tr>\n",
       "      <th>75%</th>\n",
       "      <td>150.250000</td>\n",
       "      <td>49.000000</td>\n",
       "      <td>78.000000</td>\n",
       "      <td>73.000000</td>\n",
       "    </tr>\n",
       "    <tr>\n",
       "      <th>max</th>\n",
       "      <td>200.000000</td>\n",
       "      <td>70.000000</td>\n",
       "      <td>137.000000</td>\n",
       "      <td>99.000000</td>\n",
       "    </tr>\n",
       "  </tbody>\n",
       "</table>\n",
       "</div>"
      ],
      "text/plain": [
       "       customer_id         age  annual_income  spending_score\n",
       "count   200.000000  200.000000     200.000000      200.000000\n",
       "mean    100.500000   38.850000      60.560000       50.200000\n",
       "std      57.879185   13.969007      26.264721       25.823522\n",
       "min       1.000000   18.000000      15.000000        1.000000\n",
       "25%      50.750000   28.750000      41.500000       34.750000\n",
       "50%     100.500000   36.000000      61.500000       50.000000\n",
       "75%     150.250000   49.000000      78.000000       73.000000\n",
       "max     200.000000   70.000000     137.000000       99.000000"
      ]
     },
     "execution_count": 33,
     "metadata": {},
     "output_type": "execute_result"
    }
   ],
   "source": [
    "df.describe()"
   ]
  },
  {
   "cell_type": "markdown",
   "metadata": {},
   "source": [
    "##### 3. Detect outliers using IQR."
   ]
  },
  {
   "cell_type": "code",
   "execution_count": 34,
   "metadata": {},
   "outputs": [
    {
     "name": "stdout",
     "output_type": "stream",
     "text": [
      "299.5 -98.5\n",
      "79.375 -1.625\n",
      "132.75 -13.25\n",
      "130.375 -22.625\n"
     ]
    }
   ],
   "source": [
    "# age, income, spending score\n",
    "for col in df.describe().columns:\n",
    "    q1, q2, q3 = df[col].quantile([0.25,0.5,0.75])\n",
    "    IQR = q3 - q1\n",
    "    \n",
    "    upper = q3 + (1.5 * IQR)\n",
    "    lower = q1 - (1.5 * IQR)\n",
    "    \n",
    "    print(upper, lower)"
   ]
  },
  {
   "cell_type": "markdown",
   "metadata": {},
   "source": [
    "##### 4. Split data (train, validate, and test split)."
   ]
  },
  {
   "cell_type": "code",
   "execution_count": 35,
   "metadata": {},
   "outputs": [],
   "source": [
    "def split_mall_data_test(df):\n",
    "    train_validate, test = train_test_split(df, test_size=.30, random_state=123)\n",
    "    train, validate = train_test_split(train_validate, test_size=.20, random_state=123)\n",
    "    \n",
    "    # Printing the shape of each dataframe:\n",
    "    print(f'Shape of train df: {train.shape}')\n",
    "    print(f'Shape of validate df: {validate.shape}')\n",
    "    print(f'Shape of test df: {test.shape}')\n",
    "    return train, validate, test"
   ]
  },
  {
   "cell_type": "code",
   "execution_count": 36,
   "metadata": {},
   "outputs": [
    {
     "name": "stdout",
     "output_type": "stream",
     "text": [
      "Shape of train df: (112, 5)\n",
      "Shape of validate df: (28, 5)\n",
      "Shape of test df: (60, 5)\n"
     ]
    }
   ],
   "source": [
    "train, validate, test = split_mall_data_test(df)"
   ]
  },
  {
   "cell_type": "markdown",
   "metadata": {},
   "source": [
    "##### 5. Encode categorical columns using a one hot encoder."
   ]
  },
  {
   "cell_type": "code",
   "execution_count": 37,
   "metadata": {},
   "outputs": [],
   "source": [
    "from sklearn.preprocessing import OneHotEncoder\n",
    "\n",
    "ohe = OneHotEncoder(sparse=False, categories='gender')"
   ]
  },
  {
   "cell_type": "code",
   "execution_count": 38,
   "metadata": {},
   "outputs": [],
   "source": [
    "train['is_male'] = pd.get_dummies(train.gender, drop_first = True) "
   ]
  },
  {
   "cell_type": "code",
   "execution_count": 39,
   "metadata": {},
   "outputs": [
    {
     "data": {
      "text/plain": [
       "((28, 6), (60, 6))"
      ]
     },
     "execution_count": 39,
     "metadata": {},
     "output_type": "execute_result"
    }
   ],
   "source": [
    "validate['is_male'] = pd.get_dummies(validate.gender, drop_first = True)\n",
    "test['is_male'] = pd.get_dummies(test.gender, drop_first = True)\n",
    "\n",
    "validate.shape, test.shape"
   ]
  },
  {
   "cell_type": "code",
   "execution_count": 40,
   "metadata": {},
   "outputs": [
    {
     "data": {
      "text/plain": [
       "OneHotEncoder(categories='gender', drop=None, dtype=<class 'numpy.float64'>,\n",
       "              handle_unknown='error', sparse=False)"
      ]
     },
     "execution_count": 40,
     "metadata": {},
     "output_type": "execute_result"
    }
   ],
   "source": [
    "ohe"
   ]
  },
  {
   "cell_type": "markdown",
   "metadata": {},
   "source": [
    "##### 6. Handles missing values."
   ]
  },
  {
   "cell_type": "code",
   "execution_count": 41,
   "metadata": {},
   "outputs": [
    {
     "data": {
      "text/plain": [
       "customer_id       0\n",
       "gender            0\n",
       "age               0\n",
       "annual_income     0\n",
       "spending_score    0\n",
       "is_male           0\n",
       "dtype: int64"
      ]
     },
     "execution_count": 41,
     "metadata": {},
     "output_type": "execute_result"
    }
   ],
   "source": [
    "train.isnull().sum()"
   ]
  },
  {
   "cell_type": "code",
   "execution_count": 42,
   "metadata": {},
   "outputs": [],
   "source": [
    "# No missing values! Yay!"
   ]
  },
  {
   "cell_type": "markdown",
   "metadata": {},
   "source": [
    "##### 7. Scaling"
   ]
  },
  {
   "cell_type": "code",
   "execution_count": 43,
   "metadata": {},
   "outputs": [],
   "source": [
    "import sklearn.preprocessing\n",
    "from sklearn import preprocessing\n",
    "from sklearn.preprocessing import StandardScaler\n",
    "from scipy import stats\n",
    "from sklearn.model_selection import train_test_split"
   ]
  },
  {
   "cell_type": "code",
   "execution_count": 44,
   "metadata": {},
   "outputs": [
    {
     "data": {
      "text/plain": [
       "<matplotlib.axes._subplots.AxesSubplot at 0x1a1dd3a890>"
      ]
     },
     "execution_count": 44,
     "metadata": {},
     "output_type": "execute_result"
    },
    {
     "data": {
      "image/png": "[encoded data removed]",
      "text/plain": [
       "<Figure size 864x360 with 2 Axes>"
      ]
     },
     "metadata": {
      "needs_background": "light"
     },
     "output_type": "display_data"
    }
   ],
   "source": [
    "# Annual Income\n",
    "scaler = sklearn.preprocessing.StandardScaler()\n",
    "scaler.fit(train[['annual_income']])\n",
    "\n",
    "train['annual_income_scaled'] = scaler.transform(train[['annual_income']])\n",
    "test['annual_income_scaled'] = scaler.transform(test[['annual_income']])\n",
    "validate['annual_income_scaled'] = scaler.transform(validate[['annual_income']])\n",
    "\n",
    "plt.figure(figsize=(12, 5))\n",
    "plt.subplot(121)\n",
    "train.annual_income.plot.hist(title='Original')\n",
    "plt.subplot(122)\n",
    "train.annual_income_scaled.plot.hist(title='Standard Scaled')"
   ]
  },
  {
   "cell_type": "code",
   "execution_count": 45,
   "metadata": {},
   "outputs": [
    {
     "data": {
      "text/plain": [
       "<matplotlib.axes._subplots.AxesSubplot at 0x1a1e8b85d0>"
      ]
     },
     "execution_count": 45,
     "metadata": {},
     "output_type": "execute_result"
    },
    {
     "data": {
      "image/png": "[encoded data removed]",
      "text/plain": [
       "<Figure size 864x360 with 2 Axes>"
      ]
     },
     "metadata": {
      "needs_background": "light"
     },
     "output_type": "display_data"
    }
   ],
   "source": [
    "# Spending Score \n",
    "scaler = sklearn.preprocessing.StandardScaler()\n",
    "scaler.fit(train[['spending_score']])\n",
    "\n",
    "train['spending_score_scaled'] = scaler.transform(train[['spending_score']])\n",
    "test['spending_score_scaled'] = scaler.transform(test[['spending_score']])\n",
    "validate['spending_score_scaled'] = scaler.transform(validate[['spending_score']])\n",
    "\n",
    "plt.figure(figsize=(12, 5))\n",
    "plt.subplot(121)\n",
    "train.spending_score.plot.hist(title='Original')\n",
    "plt.subplot(122)\n",
    "train.spending_score_scaled.plot.hist(title='Standard Scaled')"
   ]
  }
 ],
 "metadata": {
  "kernelspec": {
   "display_name": "Python 3",
   "language": "python",
   "name": "python3"
  },
  "language_info": {
   "codemirror_mode": {
    "name": "ipython",
    "version": 3
   },
   "file_extension": ".py",
   "mimetype": "text/x-python",
   "name": "python",
   "nbconvert_exporter": "python",
   "pygments_lexer": "ipython3",
   "version": "3.7.6"
  }
 },
 "nbformat": 4,
 "nbformat_minor": 4
}
