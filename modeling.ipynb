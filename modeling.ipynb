{
 "cells": [
  {
   "cell_type": "markdown",
   "metadata": {},
   "source": [
    "### Imports "
   ]
  },
  {
   "cell_type": "code",
   "execution_count": 1,
   "metadata": {},
   "outputs": [],
   "source": [
    "import pandas as pd\n",
    "import numpy as np\n",
    "import matplotlib.pyplot as plt\n",
    "import seaborn as sns\n",
    "\n",
    "from sklearn.cluster import KMeans\n",
    "\n",
    "from sklearn.model_selection import train_test_split\n",
    "from sklearn.preprocessing import StandardScaler"
   ]
  },
  {
   "cell_type": "markdown",
   "metadata": {},
   "source": [
    "#### 1. Clustering with the Iris Dataset"
   ]
  },
  {
   "cell_type": "markdown",
   "metadata": {},
   "source": [
    "Using this lesson as a guide, perform clustering on the iris dataset.\n",
    "\n",
    "a. Choose features other than the ones used in the lesson.  \n",
    "b. Visualize the results of your clustering.  \n",
    "c. Use the elbow method to visually select a good value for k.  \n",
    "d. Repeat the clustering, this time with 3 different features.  "
   ]
  },
  {
   "cell_type": "code",
   "execution_count": 2,
   "metadata": {},
   "outputs": [],
   "source": [
    "df = sns.load_dataset(\"iris\")\n",
    "\n",
    "# Feature Engineering\n",
    "df[\"sepal_area\"] = df.sepal_length * df.sepal_width\n",
    "df[\"petal_area\"] = df.petal_length * df.petal_width"
   ]
  },
  {
   "cell_type": "code",
   "execution_count": 3,
   "metadata": {},
   "outputs": [
    {
     "data": {
      "text/plain": [
       "((90, 7), (30, 7), (30, 7))"
      ]
     },
     "execution_count": 3,
     "metadata": {},
     "output_type": "execute_result"
    }
   ],
   "source": [
    "train_validate, test = train_test_split(df, train_size=.80, random_state=123)\n",
    "train, validate = train_test_split(train_validate, random_state=123)\n",
    "\n",
    "train.shape, validate.shape, test.shape"
   ]
  },
  {
   "cell_type": "code",
   "execution_count": 4,
   "metadata": {},
   "outputs": [],
   "source": [
    "# Scale the datasets\n",
    "scaler = StandardScaler()\n",
    "cols = train.drop(columns=[\"species\"]).columns.tolist()\n",
    "\n",
    "# .copy() makes a proper copy\n",
    "train_scaled = train.copy()\n",
    "validate_scaled = validate.copy()\n",
    "test_scaled = test.copy()\n",
    "\n",
    "train_scaled[cols] = scaler.fit_transform(train[cols])\n",
    "validate_scaled[cols] = scaler.transform(validate[cols])\n",
    "test_scaled[cols] = scaler.transform(test[cols])"
   ]
  },
  {
   "cell_type": "code",
   "execution_count": 5,
   "metadata": {},
   "outputs": [
    {
     "data": {
      "text/html": [
       "<div>\n",
       "<style scoped>\n",
       "    .dataframe tbody tr th:only-of-type {\n",
       "        vertical-align: middle;\n",
       "    }\n",
       "\n",
       "    .dataframe tbody tr th {\n",
       "        vertical-align: top;\n",
       "    }\n",
       "\n",
       "    .dataframe thead th {\n",
       "        text-align: right;\n",
       "    }\n",
       "</style>\n",
       "<table border=\"1\" class=\"dataframe\">\n",
       "  <thead>\n",
       "    <tr style=\"text-align: right;\">\n",
       "      <th></th>\n",
       "      <th>sepal_length</th>\n",
       "      <th>sepal_width</th>\n",
       "      <th>petal_length</th>\n",
       "      <th>petal_width</th>\n",
       "      <th>species</th>\n",
       "      <th>sepal_area</th>\n",
       "      <th>petal_area</th>\n",
       "      <th>cluster</th>\n",
       "    </tr>\n",
       "  </thead>\n",
       "  <tbody>\n",
       "    <tr>\n",
       "      <th>86</th>\n",
       "      <td>1.039148</td>\n",
       "      <td>0.164244</td>\n",
       "      <td>0.510148</td>\n",
       "      <td>0.373142</td>\n",
       "      <td>versicolor</td>\n",
       "      <td>0.874447</td>\n",
       "      <td>0.255092</td>\n",
       "      <td>1</td>\n",
       "    </tr>\n",
       "    <tr>\n",
       "      <th>82</th>\n",
       "      <td>-0.075700</td>\n",
       "      <td>-0.789432</td>\n",
       "      <td>0.038638</td>\n",
       "      <td>-0.038076</td>\n",
       "      <td>versicolor</td>\n",
       "      <td>-0.610737</td>\n",
       "      <td>-0.266638</td>\n",
       "      <td>0</td>\n",
       "    </tr>\n",
       "    <tr>\n",
       "      <th>109</th>\n",
       "      <td>1.658507</td>\n",
       "      <td>1.356340</td>\n",
       "      <td>1.335292</td>\n",
       "      <td>1.743869</td>\n",
       "      <td>virginica</td>\n",
       "      <td>2.371258</td>\n",
       "      <td>2.060234</td>\n",
       "      <td>1</td>\n",
       "    </tr>\n",
       "    <tr>\n",
       "      <th>147</th>\n",
       "      <td>0.791404</td>\n",
       "      <td>-0.074175</td>\n",
       "      <td>0.804843</td>\n",
       "      <td>1.058506</td>\n",
       "      <td>virginica</td>\n",
       "      <td>0.505331</td>\n",
       "      <td>0.992559</td>\n",
       "      <td>1</td>\n",
       "    </tr>\n",
       "    <tr>\n",
       "      <th>49</th>\n",
       "      <td>-1.066675</td>\n",
       "      <td>0.641083</td>\n",
       "      <td>-1.434833</td>\n",
       "      <td>-1.408803</td>\n",
       "      <td>setosa</td>\n",
       "      <td>-0.366597</td>\n",
       "      <td>-1.235250</td>\n",
       "      <td>2</td>\n",
       "    </tr>\n",
       "  </tbody>\n",
       "</table>\n",
       "</div>"
      ],
      "text/plain": [
       "     sepal_length  sepal_width  petal_length  petal_width     species  \\\n",
       "86       1.039148     0.164244      0.510148     0.373142  versicolor   \n",
       "82      -0.075700    -0.789432      0.038638    -0.038076  versicolor   \n",
       "109      1.658507     1.356340      1.335292     1.743869   virginica   \n",
       "147      0.791404    -0.074175      0.804843     1.058506   virginica   \n",
       "49      -1.066675     0.641083     -1.434833    -1.408803      setosa   \n",
       "\n",
       "     sepal_area  petal_area  cluster  \n",
       "86     0.874447    0.255092        1  \n",
       "82    -0.610737   -0.266638        0  \n",
       "109    2.371258    2.060234        1  \n",
       "147    0.505331    0.992559        1  \n",
       "49    -0.366597   -1.235250        2  "
      ]
     },
     "execution_count": 5,
     "metadata": {},
     "output_type": "execute_result"
    }
   ],
   "source": [
    "# Fit K-Means\n",
    "X = train_scaled[[\"sepal_area\", \"petal_area\"]]\n",
    "kmeans = KMeans(n_clusters=3)\n",
    "kmeans.fit(X)\n",
    "\n",
    "train_scaled['cluster'] = kmeans.labels_\n",
    "train_scaled.head()"
   ]
  },
  {
   "cell_type": "code",
   "execution_count": 6,
   "metadata": {},
   "outputs": [
    {
     "data": {
      "text/plain": [
       "<seaborn.axisgrid.FacetGrid at 0x61a0b0950>"
      ]
     },
     "execution_count": 6,
     "metadata": {},
     "output_type": "execute_result"
    },
    {
     "data": {
      "image/png": "[encoded data removed]",
      "text/plain": [
       "<Figure size 1164.75x360 with 3 Axes>"
      ]
     },
     "metadata": {
      "needs_background": "light"
     },
     "output_type": "display_data"
    }
   ],
   "source": [
    "# visualize w/ hue=\"species\" style=\"cluster\"\n",
    "sns.relplot(x=\"sepal_area\", y=\"petal_area\", hue=\"species\", col=\"cluster\", data=train_scaled)"
   ]
  },
  {
   "cell_type": "code",
   "execution_count": 7,
   "metadata": {},
   "outputs": [
    {
     "data": {
      "image/png": "[encoded data removed]",
      "text/plain": [
       "<Figure size 936x504 with 1 Axes>"
      ]
     },
     "metadata": {
      "needs_background": "light"
     },
     "output_type": "display_data"
    }
   ],
   "source": [
    "def get_inertia(k):\n",
    "    return KMeans(k).fit(X).inertia_\n",
    "\n",
    "plt.figure(figsize=(13, 7))\n",
    "\n",
    "df = pd.Series([get_inertia(k) for k in range(2, 13)]).plot()\n",
    "\n",
    "plt.xlabel('k')\n",
    "plt.ylabel('inertia')\n",
    "plt.xticks(range(2, 13))\n",
    "plt.grid()"
   ]
  },
  {
   "cell_type": "code",
   "execution_count": 8,
   "metadata": {},
   "outputs": [
    {
     "data": {
      "text/html": [
       "<div>\n",
       "<style scoped>\n",
       "    .dataframe tbody tr th:only-of-type {\n",
       "        vertical-align: middle;\n",
       "    }\n",
       "\n",
       "    .dataframe tbody tr th {\n",
       "        vertical-align: top;\n",
       "    }\n",
       "\n",
       "    .dataframe thead th {\n",
       "        text-align: right;\n",
       "    }\n",
       "</style>\n",
       "<table border=\"1\" class=\"dataframe\">\n",
       "  <thead>\n",
       "    <tr style=\"text-align: right;\">\n",
       "      <th></th>\n",
       "      <th>sepal_length</th>\n",
       "      <th>sepal_width</th>\n",
       "      <th>petal_length</th>\n",
       "      <th>petal_width</th>\n",
       "      <th>species</th>\n",
       "      <th>sepal_area</th>\n",
       "      <th>petal_area</th>\n",
       "      <th>cluster</th>\n",
       "    </tr>\n",
       "  </thead>\n",
       "  <tbody>\n",
       "    <tr>\n",
       "      <th>86</th>\n",
       "      <td>1.039148</td>\n",
       "      <td>0.164244</td>\n",
       "      <td>0.510148</td>\n",
       "      <td>0.373142</td>\n",
       "      <td>versicolor</td>\n",
       "      <td>0.874447</td>\n",
       "      <td>0.255092</td>\n",
       "      <td>1</td>\n",
       "    </tr>\n",
       "    <tr>\n",
       "      <th>82</th>\n",
       "      <td>-0.075700</td>\n",
       "      <td>-0.789432</td>\n",
       "      <td>0.038638</td>\n",
       "      <td>-0.038076</td>\n",
       "      <td>versicolor</td>\n",
       "      <td>-0.610737</td>\n",
       "      <td>-0.266638</td>\n",
       "      <td>0</td>\n",
       "    </tr>\n",
       "    <tr>\n",
       "      <th>109</th>\n",
       "      <td>1.658507</td>\n",
       "      <td>1.356340</td>\n",
       "      <td>1.335292</td>\n",
       "      <td>1.743869</td>\n",
       "      <td>virginica</td>\n",
       "      <td>2.371258</td>\n",
       "      <td>2.060234</td>\n",
       "      <td>1</td>\n",
       "    </tr>\n",
       "    <tr>\n",
       "      <th>147</th>\n",
       "      <td>0.791404</td>\n",
       "      <td>-0.074175</td>\n",
       "      <td>0.804843</td>\n",
       "      <td>1.058506</td>\n",
       "      <td>virginica</td>\n",
       "      <td>0.505331</td>\n",
       "      <td>0.992559</td>\n",
       "      <td>1</td>\n",
       "    </tr>\n",
       "    <tr>\n",
       "      <th>49</th>\n",
       "      <td>-1.066675</td>\n",
       "      <td>0.641083</td>\n",
       "      <td>-1.434833</td>\n",
       "      <td>-1.408803</td>\n",
       "      <td>setosa</td>\n",
       "      <td>-0.366597</td>\n",
       "      <td>-1.235250</td>\n",
       "      <td>2</td>\n",
       "    </tr>\n",
       "  </tbody>\n",
       "</table>\n",
       "</div>"
      ],
      "text/plain": [
       "     sepal_length  sepal_width  petal_length  petal_width     species  \\\n",
       "86       1.039148     0.164244      0.510148     0.373142  versicolor   \n",
       "82      -0.075700    -0.789432      0.038638    -0.038076  versicolor   \n",
       "109      1.658507     1.356340      1.335292     1.743869   virginica   \n",
       "147      0.791404    -0.074175      0.804843     1.058506   virginica   \n",
       "49      -1.066675     0.641083     -1.434833    -1.408803      setosa   \n",
       "\n",
       "     sepal_area  petal_area  cluster  \n",
       "86     0.874447    0.255092        1  \n",
       "82    -0.610737   -0.266638        0  \n",
       "109    2.371258    2.060234        1  \n",
       "147    0.505331    0.992559        1  \n",
       "49    -0.366597   -1.235250        2  "
      ]
     },
     "execution_count": 8,
     "metadata": {},
     "output_type": "execute_result"
    }
   ],
   "source": [
    "train_scaled.head()"
   ]
  },
  {
   "cell_type": "code",
   "execution_count": 9,
   "metadata": {},
   "outputs": [
    {
     "data": {
      "text/plain": [
       "<seaborn.axisgrid.FacetGrid at 0x1a1d494610>"
      ]
     },
     "execution_count": 9,
     "metadata": {},
     "output_type": "execute_result"
    },
    {
     "data": {
      "image/png": "[encoded data removed]",
      "text/plain": [
       "<Figure size 1164.75x720 with 6 Axes>"
      ]
     },
     "metadata": {
      "needs_background": "light"
     },
     "output_type": "display_data"
    }
   ],
   "source": [
    "# Fit K-Means\n",
    "X = train_scaled[[\"sepal_area\", \"petal_area\", \"sepal_length\", \"petal_width\"]]\n",
    "kmeans = KMeans(n_clusters=6)\n",
    "kmeans.fit(X)\n",
    "\n",
    "train_scaled['cluster'] = kmeans.labels_\n",
    "\n",
    "# visualize w/ hue=\"species\" style=\"cluster\"\n",
    "sns.relplot(x=\"sepal_area\", y=\"petal_area\", hue=\"species\", col=\"cluster\", col_wrap=3, data=train_scaled)"
   ]
  },
  {
   "cell_type": "markdown",
   "metadata": {},
   "source": [
    "#### 2. Use the techniques discussed in this lesson, as well as the insights gained from the exploration exercise to perform clustering on the mall customers dataset. Be sure to visualize your results!"
   ]
  },
  {
   "cell_type": "code",
   "execution_count": null,
   "metadata": {},
   "outputs": [],
   "source": [
    "import env\n",
    "\n",
    "db_name = \"mall_customers\"\n",
    "query = 'SELECT * FROM customers'\n",
    "\n",
    "url = env.get_url(db_name)\n",
    "df = pd.read_sql(query, url, index_col=\"customer_id\")\n",
    "\n",
    "# Encode gender\n",
    "df.gender = df.gender.apply(lambda x: 1 if x == \"Female\" else 0)\n",
    "\n",
    "# Split nice and early\n",
    "train_validate, test = train_test_split(df, train_size=.80, random_state=123)\n",
    "train, validate = train_test_split(train_validate, random_state=123)\n",
    "\n",
    "train.shape, validate.shape, test.shape\n",
    "\n",
    "train.head()"
   ]
  },
  {
   "cell_type": "code",
   "execution_count": null,
   "metadata": {},
   "outputs": [],
   "source": [
    "# Scale the datasets\n",
    "\n",
    "# Start w/ empty copies to retain the original splits\n",
    "train_scaled = train.copy()\n",
    "validate_scaled = validate.copy()\n",
    "test_scaled = test.copy()\n",
    "\n",
    "# Scale the datasets\n",
    "scaler = StandardScaler()\n",
    "cols = train.drop(columns=[\"gender\"]).columns.tolist()\n",
    "\n",
    "train_scaled[cols] = scaler.fit_transform(train[cols])\n",
    "validate_scaled[cols] = scaler.transform(validate[cols])\n",
    "test_scaled[cols] = scaler.transform(test[cols])\n",
    "\n",
    "# Add back in the gender column to the dataframes\n",
    "train_scaled[\"gender\"] = train.gender.copy()\n",
    "validate_scaled[\"gender\"] = validate.gender.copy()\n",
    "test_scaled[\"gender\"] = test.gender.copy()"
   ]
  },
  {
   "cell_type": "code",
   "execution_count": null,
   "metadata": {},
   "outputs": [],
   "source": [
    "X = train_scaled.copy()\n",
    "\n",
    "def get_inertia(k):\n",
    "    return KMeans(k).fit(X).inertia_\n",
    "\n",
    "plt.figure(figsize=(13, 7))\n",
    "df = pd.Series([get_inertia(k) for k in range(2, 13)]).plot()\n",
    "\n",
    "plt.xlabel('k')\n",
    "plt.ylabel('inertia')\n",
    "plt.xticks(range(2, 13))\n",
    "plt.grid()"
   ]
  },
  {
   "cell_type": "code",
   "execution_count": null,
   "metadata": {},
   "outputs": [],
   "source": [
    "# Looks like the sweet spot is 4, 5, or 6\n",
    "# Let's start with and visualize kmeans clusters w/ k=4\n",
    "\n",
    "# Fit K-Means\n",
    "X = train_scaled.copy()\n",
    "kmeans = KMeans(n_clusters=4)\n",
    "kmeans.fit(X)\n",
    "\n",
    "train_scaled['cluster'] = kmeans.labels_\n",
    "\n",
    "train_scaled.head()"
   ]
  },
  {
   "cell_type": "code",
   "execution_count": null,
   "metadata": {},
   "outputs": [],
   "source": [
    "sns.relplot(x=\"annual_income\", y=\"spending_score\", data=train_scaled)"
   ]
  },
  {
   "cell_type": "code",
   "execution_count": null,
   "metadata": {},
   "outputs": [],
   "source": [
    "# One column per gender value\n",
    "# One color/shape for each cluster label\n",
    "sns.relplot(x=\"age\", y=\"spending_score\", style=\"cluster\", hue=\"cluster\", col=\"gender\", palette=\"deep\", data=train_scaled)"
   ]
  },
  {
   "cell_type": "code",
   "execution_count": null,
   "metadata": {},
   "outputs": [],
   "source": [
    "plt.title(\"Spending score to income grouped by cluster number\")\n",
    "plt.scatter(train_scaled.spending_score, train_scaled.annual_income, c=train_scaled.cluster)\n",
    "plt.xlabel(\"spending_score\")\n",
    "plt.ylabel(\"annual_income\")\n",
    "plt.show()"
   ]
  },
  {
   "cell_type": "code",
   "execution_count": null,
   "metadata": {},
   "outputs": [],
   "source": [
    "# 4, 5, or 6\n",
    "# Let's start with and visualize kmeans clusters w/ k=4\n",
    "\n",
    "# Fit K-Means\n",
    "X = train_scaled.copy()\n",
    "kmeans = KMeans(n_clusters=5)\n",
    "kmeans.fit(X)\n",
    "\n",
    "train_scaled['cluster'] = kmeans.labels_\n",
    "\n",
    "train_scaled.head()"
   ]
  },
  {
   "cell_type": "code",
   "execution_count": null,
   "metadata": {},
   "outputs": [],
   "source": [
    "plt.scatter(train_scaled.spending_score, train_scaled.annual_income, c=train_scaled.cluster)"
   ]
  },
  {
   "cell_type": "code",
   "execution_count": null,
   "metadata": {},
   "outputs": [],
   "source": [
    "# One column per gender value\n",
    "# One color/shape for each cluster label\n",
    "sns.relplot(x=\"age\", y=\"spending_score\", col=\"cluster\", col_wrap=3, data=train_scaled)"
   ]
  },
  {
   "cell_type": "code",
   "execution_count": null,
   "metadata": {},
   "outputs": [],
   "source": [
    "# One column per gender value\n",
    "# One color/shape for each cluster label\n",
    "sns.relplot(x=\"annual_income\", y=\"spending_score\", col=\"cluster\", col_wrap=3, data=train_scaled)"
   ]
  },
  {
   "cell_type": "markdown",
   "metadata": {},
   "source": [
    "#### 3. How does scaling impact the results of clustering?  \n",
    "\n",
    "Compare k-means clustering results on scaled and unscaled data. You can show how the resulting clusters differ either with descriptive statistics or visually."
   ]
  },
  {
   "cell_type": "code",
   "execution_count": null,
   "metadata": {},
   "outputs": [],
   "source": [
    "# Choose 5\n",
    "\n",
    "# Fit K-Means\n",
    "X = train.copy()\n",
    "kmeans = KMeans(n_clusters=5)\n",
    "kmeans.fit(X)\n",
    "\n",
    "train['cluster'] = kmeans.labels_\n",
    "plt.scatter(train.spending_score, train.annual_income, c=train.cluster)"
   ]
  },
  {
   "cell_type": "code",
   "execution_count": null,
   "metadata": {},
   "outputs": [],
   "source": [
    "sns.relplot(x=\"age\", y=\"spending_score\", col=\"cluster\", data=train)"
   ]
  },
  {
   "cell_type": "code",
   "execution_count": null,
   "metadata": {},
   "outputs": [],
   "source": [
    "sns.relplot(x=\"age\", y=\"annual_income\", col=\"cluster\", data=train)"
   ]
  },
  {
   "cell_type": "code",
   "execution_count": null,
   "metadata": {},
   "outputs": [],
   "source": [
    "sns.relplot(x=\"age\", y=\"gender\", col=\"cluster\", data=train)"
   ]
  }
 ],
 "metadata": {
  "kernelspec": {
   "display_name": "Python 3",
   "language": "python",
   "name": "python3"
  },
  "language_info": {
   "codemirror_mode": {
    "name": "ipython",
    "version": 3
   },
   "file_extension": ".py",
   "mimetype": "text/x-python",
   "name": "python",
   "nbconvert_exporter": "python",
   "pygments_lexer": "ipython3",
   "version": "3.7.6"
  }
 },
 "nbformat": 4,
 "nbformat_minor": 4
}
